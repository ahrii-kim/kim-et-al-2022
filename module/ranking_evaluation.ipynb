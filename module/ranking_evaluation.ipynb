{
 "cells": [
  {
   "cell_type": "code",
   "execution_count": 80,
   "id": "ebdabf7b-34a2-418c-80a9-fd5f6e33a32f",
   "metadata": {},
   "outputs": [],
   "source": [
    "# custom modules\n",
    "from ranking_score import *\n",
    "from iaa import *"
   ]
  },
  {
   "cell_type": "code",
   "execution_count": 81,
   "id": "0c2e9bbc-ff8a-46f0-980d-cb9aa8b4067a",
   "metadata": {},
   "outputs": [],
   "source": [
    "import pandas as pd\n",
    "pd.set_option(\"display.max_rows\", None)\n",
    "\n",
    "import numpy as np\n",
    "from koMecab import mecab\n",
    "import sacrebleu"
   ]
  },
  {
   "cell_type": "markdown",
   "id": "dbf4b8bd-36e6-4a5c-8785-216967efd030",
   "metadata": {
    "tags": []
   },
   "source": [
    "### Get the data"
   ]
  },
  {
   "cell_type": "code",
   "execution_count": 82,
   "id": "1dee4e0c-2e51-4f67-97cb-991ba1021d3e",
   "metadata": {},
   "outputs": [],
   "source": [
    "before = pd.read_csv(\"./raw_data/relative_ranking_a+b_before.csv\", sep=\"\\t\", encoding=\"utf-8\")\n",
    "after = pd.read_csv(\"./raw_data/relative_ranking_a+b_after.csv\", sep=\"\\t\", encoding=\"utf-8\")"
   ]
  },
  {
   "cell_type": "code",
   "execution_count": 83,
   "id": "2fd14f93-3567-445b-988f-b053ef281ba8",
   "metadata": {
    "tags": []
   },
   "outputs": [
    {
     "data": {
      "text/html": [
       "<div>\n",
       "<style scoped>\n",
       "    .dataframe tbody tr th:only-of-type {\n",
       "        vertical-align: middle;\n",
       "    }\n",
       "\n",
       "    .dataframe tbody tr th {\n",
       "        vertical-align: top;\n",
       "    }\n",
       "\n",
       "    .dataframe thead th {\n",
       "        text-align: right;\n",
       "    }\n",
       "</style>\n",
       "<table border=\"1\" class=\"dataframe\">\n",
       "  <thead>\n",
       "    <tr style=\"text-align: right;\">\n",
       "      <th></th>\n",
       "      <th>Segment ID</th>\n",
       "      <th>Source Segment</th>\n",
       "      <th>Ref</th>\n",
       "      <th>MT_Y</th>\n",
       "      <th>MT_Z</th>\n",
       "      <th>Ref_rating</th>\n",
       "      <th>MT_Y_rating</th>\n",
       "      <th>MT_Z_rating</th>\n",
       "      <th>Error</th>\n",
       "    </tr>\n",
       "  </thead>\n",
       "  <tbody>\n",
       "    <tr>\n",
       "      <th>0</th>\n",
       "      <td>1</td>\n",
       "      <td>Royal news: How Princess Beatrice \"reacted with fury at hostile family members\"</td>\n",
       "      <td>영국 왕실 뉴스: 베아트리스 공주, ‘적대적인 왕실 구성원들에게 이렇게 분노 표출해’</td>\n",
       "      <td>왕실 뉴스: 베아트리체 공주가 \"적대하는 가족들에게 분노의 반응을 보였다\"</td>\n",
       "      <td>왕실 뉴스: 베아트리체 공주가 적대적인 가족들에게 분노로 어떻게 반응했는가</td>\n",
       "      <td>2</td>\n",
       "      <td>2</td>\n",
       "      <td>1</td>\n",
       "      <td>F</td>\n",
       "    </tr>\n",
       "  </tbody>\n",
       "</table>\n",
       "</div>"
      ],
      "text/plain": [
       "   Segment ID  \\\n",
       "0           1   \n",
       "\n",
       "                                                                    Source Segment  \\\n",
       "0  Royal news: How Princess Beatrice \"reacted with fury at hostile family members\"   \n",
       "\n",
       "                                               Ref  \\\n",
       "0  영국 왕실 뉴스: 베아트리스 공주, ‘적대적인 왕실 구성원들에게 이렇게 분노 표출해’   \n",
       "\n",
       "                                        MT_Y  \\\n",
       "0  왕실 뉴스: 베아트리체 공주가 \"적대하는 가족들에게 분노의 반응을 보였다\"   \n",
       "\n",
       "                                        MT_Z  Ref_rating  MT_Y_rating  \\\n",
       "0  왕실 뉴스: 베아트리체 공주가 적대적인 가족들에게 분노로 어떻게 반응했는가           2            2   \n",
       "\n",
       "   MT_Z_rating Error  \n",
       "0            1     F  "
      ]
     },
     "execution_count": 83,
     "metadata": {},
     "output_type": "execute_result"
    }
   ],
   "source": [
    "del before[\"Unnamed: 0\"]\n",
    "del after[\"Unnamed: 0\"]\n",
    "before.head(1)"
   ]
  },
  {
   "cell_type": "markdown",
   "id": "8a61ced0-268e-4bd4-bf60-e12bc15ddd31",
   "metadata": {
    "tags": []
   },
   "source": [
    "### Get the result"
   ]
  },
  {
   "cell_type": "code",
   "execution_count": 6,
   "id": "eec4ba2e-1d53-4784-9c04-5727c604e53d",
   "metadata": {
    "jupyter": {
     "source_hidden": true
    },
    "tags": []
   },
   "outputs": [],
   "source": [
    "result_before = get_result(before)\n",
    "result_after = get_result(after)"
   ]
  },
  {
   "cell_type": "code",
   "execution_count": 178,
   "id": "90504996-dbd9-4230-8c3f-286065e2cad3",
   "metadata": {},
   "outputs": [
    {
     "data": {
      "text/html": [
       "<div>\n",
       "<style scoped>\n",
       "    .dataframe tbody tr th:only-of-type {\n",
       "        vertical-align: middle;\n",
       "    }\n",
       "\n",
       "    .dataframe tbody tr th {\n",
       "        vertical-align: top;\n",
       "    }\n",
       "\n",
       "    .dataframe thead th {\n",
       "        text-align: right;\n",
       "    }\n",
       "</style>\n",
       "<table border=\"1\" class=\"dataframe\">\n",
       "  <thead>\n",
       "    <tr style=\"text-align: right;\">\n",
       "      <th></th>\n",
       "      <th>MT_Y</th>\n",
       "      <th>MT_Z</th>\n",
       "    </tr>\n",
       "  </thead>\n",
       "  <tbody>\n",
       "    <tr>\n",
       "      <th>MT_better</th>\n",
       "      <td>61</td>\n",
       "      <td>56</td>\n",
       "    </tr>\n",
       "    <tr>\n",
       "      <th>HT_better</th>\n",
       "      <td>256</td>\n",
       "      <td>284</td>\n",
       "    </tr>\n",
       "    <tr>\n",
       "      <th>Tie</th>\n",
       "      <td>120</td>\n",
       "      <td>97</td>\n",
       "    </tr>\n",
       "    <tr>\n",
       "      <th>P-value</th>\n",
       "      <td>3.62841e-21</td>\n",
       "      <td>5.10358e-29</td>\n",
       "    </tr>\n",
       "    <tr>\n",
       "      <th>Valid</th>\n",
       "      <td>True</td>\n",
       "      <td>True</td>\n",
       "    </tr>\n",
       "    <tr>\n",
       "      <th>Ab_score</th>\n",
       "      <td>2.22883</td>\n",
       "      <td>2.07551</td>\n",
       "    </tr>\n",
       "  </tbody>\n",
       "</table>\n",
       "</div>"
      ],
      "text/plain": [
       "                  MT_Y         MT_Z\n",
       "MT_better           61           56\n",
       "HT_better          256          284\n",
       "Tie                120           97\n",
       "P-value    3.62841e-21  5.10358e-29\n",
       "Valid             True         True\n",
       "Ab_score       2.22883      2.07551"
      ]
     },
     "execution_count": 178,
     "metadata": {},
     "output_type": "execute_result"
    }
   ],
   "source": [
    "result_before"
   ]
  },
  {
   "cell_type": "code",
   "execution_count": 179,
   "id": "17b68a8f-9290-4f52-b560-e8eb71833663",
   "metadata": {},
   "outputs": [
    {
     "data": {
      "text/html": [
       "<div>\n",
       "<style scoped>\n",
       "    .dataframe tbody tr th:only-of-type {\n",
       "        vertical-align: middle;\n",
       "    }\n",
       "\n",
       "    .dataframe tbody tr th {\n",
       "        vertical-align: top;\n",
       "    }\n",
       "\n",
       "    .dataframe thead th {\n",
       "        text-align: right;\n",
       "    }\n",
       "</style>\n",
       "<table border=\"1\" class=\"dataframe\">\n",
       "  <thead>\n",
       "    <tr style=\"text-align: right;\">\n",
       "      <th></th>\n",
       "      <th>MT_Y</th>\n",
       "      <th>MT_Z</th>\n",
       "    </tr>\n",
       "  </thead>\n",
       "  <tbody>\n",
       "    <tr>\n",
       "      <th>MT_better</th>\n",
       "      <td>49</td>\n",
       "      <td>40</td>\n",
       "    </tr>\n",
       "    <tr>\n",
       "      <th>HT_better</th>\n",
       "      <td>290</td>\n",
       "      <td>321</td>\n",
       "    </tr>\n",
       "    <tr>\n",
       "      <th>Tie</th>\n",
       "      <td>98</td>\n",
       "      <td>76</td>\n",
       "    </tr>\n",
       "    <tr>\n",
       "      <th>P-value</th>\n",
       "      <td>3.71747e-32</td>\n",
       "      <td>3.81629e-44</td>\n",
       "    </tr>\n",
       "    <tr>\n",
       "      <th>Valid</th>\n",
       "      <td>True</td>\n",
       "      <td>True</td>\n",
       "    </tr>\n",
       "    <tr>\n",
       "      <th>Ab_score</th>\n",
       "      <td>2.13959</td>\n",
       "      <td>1.93593</td>\n",
       "    </tr>\n",
       "  </tbody>\n",
       "</table>\n",
       "</div>"
      ],
      "text/plain": [
       "                  MT_Y         MT_Z\n",
       "MT_better           49           40\n",
       "HT_better          290          321\n",
       "Tie                 98           76\n",
       "P-value    3.71747e-32  3.81629e-44\n",
       "Valid             True         True\n",
       "Ab_score       2.13959      1.93593"
      ]
     },
     "execution_count": 179,
     "metadata": {},
     "output_type": "execute_result"
    }
   ],
   "source": [
    "result_after"
   ]
  },
  {
   "cell_type": "markdown",
   "id": "f4da6cb5-d294-4577-a9e6-82097e8ae9a2",
   "metadata": {
    "tags": []
   },
   "source": [
    "#### absolute score of HT"
   ]
  },
  {
   "cell_type": "code",
   "execution_count": 181,
   "id": "19e7e21e-1d92-4647-9b79-4ffd3f719038",
   "metadata": {},
   "outputs": [
    {
     "data": {
      "text/plain": [
       "{'Ref': (2.7734553775743707, 360, 55, 22)}"
      ]
     },
     "execution_count": 181,
     "metadata": {},
     "output_type": "execute_result"
    }
   ],
   "source": [
    "absolute_score(before, \"Ref\")"
   ]
  },
  {
   "cell_type": "code",
   "execution_count": 182,
   "id": "7969155e-a4de-4805-b433-6a2aa5421bdd",
   "metadata": {},
   "outputs": [
    {
     "data": {
      "text/plain": [
       "{'Ref': (2.8260869565217392, 380, 38, 19)}"
      ]
     },
     "execution_count": 182,
     "metadata": {},
     "output_type": "execute_result"
    }
   ],
   "source": [
    "absolute_score(after, \"Ref\")"
   ]
  },
  {
   "cell_type": "markdown",
   "id": "6ecadc64-4f67-463d-9a05-94e1a3be3501",
   "metadata": {
    "jp-MarkdownHeadingCollapsed": true,
    "tags": []
   },
   "source": [
    "### Result: Error==\"T\""
   ]
  },
  {
   "cell_type": "code",
   "execution_count": 170,
   "id": "0d1a5297-b35f-44f1-b0c7-7d8dfaf8843a",
   "metadata": {},
   "outputs": [
    {
     "data": {
      "text/plain": [
       "92"
      ]
     },
     "execution_count": 170,
     "metadata": {},
     "output_type": "execute_result"
    }
   ],
   "source": [
    "before_error = before[before[\"Error\"] == \"T\"]\n",
    "len(before_error)"
   ]
  },
  {
   "cell_type": "code",
   "execution_count": 171,
   "id": "ff9a91ed-9761-4318-a70e-eb843674186c",
   "metadata": {},
   "outputs": [
    {
     "data": {
      "text/plain": [
       "92"
      ]
     },
     "execution_count": 171,
     "metadata": {},
     "output_type": "execute_result"
    }
   ],
   "source": [
    "after_error = after[after[\"Error\"] == \"T\"]\n",
    "len(after_error)"
   ]
  },
  {
   "cell_type": "code",
   "execution_count": 183,
   "id": "ce790fcf-9f88-4a47-8704-321c9495f69e",
   "metadata": {},
   "outputs": [],
   "source": [
    "result_before_error = get_result(before_error)\n",
    "result_after_error = get_result(after_error)"
   ]
  },
  {
   "cell_type": "code",
   "execution_count": 184,
   "id": "6b857dbe-8dd1-4c48-a42f-6bcab9b8df0f",
   "metadata": {},
   "outputs": [
    {
     "data": {
      "text/html": [
       "<div>\n",
       "<style scoped>\n",
       "    .dataframe tbody tr th:only-of-type {\n",
       "        vertical-align: middle;\n",
       "    }\n",
       "\n",
       "    .dataframe tbody tr th {\n",
       "        vertical-align: top;\n",
       "    }\n",
       "\n",
       "    .dataframe thead th {\n",
       "        text-align: right;\n",
       "    }\n",
       "</style>\n",
       "<table border=\"1\" class=\"dataframe\">\n",
       "  <thead>\n",
       "    <tr style=\"text-align: right;\">\n",
       "      <th></th>\n",
       "      <th>MT_Y</th>\n",
       "      <th>MT_Z</th>\n",
       "    </tr>\n",
       "  </thead>\n",
       "  <tbody>\n",
       "    <tr>\n",
       "      <th>MT_better</th>\n",
       "      <td>18</td>\n",
       "      <td>12</td>\n",
       "    </tr>\n",
       "    <tr>\n",
       "      <th>HT_better</th>\n",
       "      <td>58</td>\n",
       "      <td>59</td>\n",
       "    </tr>\n",
       "    <tr>\n",
       "      <th>Tie</th>\n",
       "      <td>16</td>\n",
       "      <td>21</td>\n",
       "    </tr>\n",
       "    <tr>\n",
       "      <th>P-value</th>\n",
       "      <td>3.67005e-05</td>\n",
       "      <td>5.34814e-07</td>\n",
       "    </tr>\n",
       "    <tr>\n",
       "      <th>Valid</th>\n",
       "      <td>True</td>\n",
       "      <td>True</td>\n",
       "    </tr>\n",
       "    <tr>\n",
       "      <th>Ab_score</th>\n",
       "      <td>2.18478</td>\n",
       "      <td>2.09783</td>\n",
       "    </tr>\n",
       "  </tbody>\n",
       "</table>\n",
       "</div>"
      ],
      "text/plain": [
       "                  MT_Y         MT_Z\n",
       "MT_better           18           12\n",
       "HT_better           58           59\n",
       "Tie                 16           21\n",
       "P-value    3.67005e-05  5.34814e-07\n",
       "Valid             True         True\n",
       "Ab_score       2.18478      2.09783"
      ]
     },
     "execution_count": 184,
     "metadata": {},
     "output_type": "execute_result"
    }
   ],
   "source": [
    "result_before_error"
   ]
  },
  {
   "cell_type": "code",
   "execution_count": 185,
   "id": "b6d49889-6a57-43ca-afd3-f51cabf437e0",
   "metadata": {},
   "outputs": [
    {
     "data": {
      "text/html": [
       "<div>\n",
       "<style scoped>\n",
       "    .dataframe tbody tr th:only-of-type {\n",
       "        vertical-align: middle;\n",
       "    }\n",
       "\n",
       "    .dataframe tbody tr th {\n",
       "        vertical-align: top;\n",
       "    }\n",
       "\n",
       "    .dataframe thead th {\n",
       "        text-align: right;\n",
       "    }\n",
       "</style>\n",
       "<table border=\"1\" class=\"dataframe\">\n",
       "  <thead>\n",
       "    <tr style=\"text-align: right;\">\n",
       "      <th></th>\n",
       "      <th>MT_Y</th>\n",
       "      <th>MT_Z</th>\n",
       "    </tr>\n",
       "  </thead>\n",
       "  <tbody>\n",
       "    <tr>\n",
       "      <th>MT_better</th>\n",
       "      <td>9</td>\n",
       "      <td>6</td>\n",
       "    </tr>\n",
       "    <tr>\n",
       "      <th>HT_better</th>\n",
       "      <td>61</td>\n",
       "      <td>68</td>\n",
       "    </tr>\n",
       "    <tr>\n",
       "      <th>Tie</th>\n",
       "      <td>22</td>\n",
       "      <td>18</td>\n",
       "    </tr>\n",
       "    <tr>\n",
       "      <th>P-value</th>\n",
       "      <td>4.60625e-08</td>\n",
       "      <td>3.2624e-11</td>\n",
       "    </tr>\n",
       "    <tr>\n",
       "      <th>Valid</th>\n",
       "      <td>True</td>\n",
       "      <td>True</td>\n",
       "    </tr>\n",
       "    <tr>\n",
       "      <th>Ab_score</th>\n",
       "      <td>2.11957</td>\n",
       "      <td>1.94565</td>\n",
       "    </tr>\n",
       "  </tbody>\n",
       "</table>\n",
       "</div>"
      ],
      "text/plain": [
       "                  MT_Y        MT_Z\n",
       "MT_better            9           6\n",
       "HT_better           61          68\n",
       "Tie                 22          18\n",
       "P-value    4.60625e-08  3.2624e-11\n",
       "Valid             True        True\n",
       "Ab_score       2.11957     1.94565"
      ]
     },
     "execution_count": 185,
     "metadata": {},
     "output_type": "execute_result"
    }
   ],
   "source": [
    "result_after_error"
   ]
  },
  {
   "cell_type": "markdown",
   "id": "bad4362b-71c3-4859-9519-cdcbd86c8cd3",
   "metadata": {
    "tags": []
   },
   "source": [
    "#### absolute score of HT"
   ]
  },
  {
   "cell_type": "code",
   "execution_count": 187,
   "id": "c828cc20-1160-4a96-a1ab-2b7f85c446a9",
   "metadata": {},
   "outputs": [
    {
     "data": {
      "text/plain": [
       "{'Ref': (2.7065217391304346, 74, 9, 9)}"
      ]
     },
     "execution_count": 187,
     "metadata": {},
     "output_type": "execute_result"
    }
   ],
   "source": [
    "absolute_score(before_error, \"Ref\")"
   ]
  },
  {
   "cell_type": "code",
   "execution_count": 186,
   "id": "f2d7af39-acfa-45bf-acaa-978b041342bb",
   "metadata": {},
   "outputs": [
    {
     "data": {
      "text/plain": [
       "{'Ref': (2.858695652173913, 82, 7, 3)}"
      ]
     },
     "execution_count": 186,
     "metadata": {},
     "output_type": "execute_result"
    }
   ],
   "source": [
    "absolute_score(after_error, \"Ref\")"
   ]
  },
  {
   "cell_type": "markdown",
   "id": "4be27d84-1282-4679-8fd7-065f04ff475c",
   "metadata": {
    "jp-MarkdownHeadingCollapsed": true,
    "tags": []
   },
   "source": [
    "### IAA"
   ]
  },
  {
   "cell_type": "code",
   "execution_count": 10,
   "id": "5eb0a389-3fb2-49ff-a313-308558f1849b",
   "metadata": {},
   "outputs": [
    {
     "data": {
      "text/plain": [
       "0.4759"
      ]
     },
     "execution_count": 10,
     "metadata": {},
     "output_type": "execute_result"
    }
   ],
   "source": [
    "file_dicts = read_files()  # group, dfs\n",
    "individual_IAA(file_dicts, \"a\")"
   ]
  },
  {
   "cell_type": "code",
   "execution_count": 199,
   "id": "366c80f5-ec82-4adb-99c8-0ca296c42f69",
   "metadata": {},
   "outputs": [
    {
     "data": {
      "text/plain": [
       "dict_keys(['a1', 'a2', 'b1', 'b2', 'c1', 'c2', 'd1', 'd2', 'e1', 'e2', 'f1', 'f2', 'g1', 'g2', 'h1', 'h2', 'i1', 'i2', 'j1', 'j2', 'k1', 'k2'])"
      ]
     },
     "execution_count": 199,
     "metadata": {},
     "output_type": "execute_result"
    }
   ],
   "source": [
    "file_dicts.keys()"
   ]
  },
  {
   "cell_type": "code",
   "execution_count": 11,
   "id": "2868d6cc-cf0a-436e-ac5b-d6ec81ec801f",
   "metadata": {},
   "outputs": [
    {
     "data": {
      "text/plain": [
       "{'a': 0.4759,\n",
       " 'b': 0.3032,\n",
       " 'c': 0.4107,\n",
       " 'd': 0.1687,\n",
       " 'e': 0.2711,\n",
       " 'f': 0.382,\n",
       " 'g': 0.3773,\n",
       " 'h': 0.1314,\n",
       " 'i': 0.2233,\n",
       " 'j': 0.1971,\n",
       " 'k': 0.474}"
      ]
     },
     "execution_count": 11,
     "metadata": {},
     "output_type": "execute_result"
    }
   ],
   "source": [
    "final_IAA(file_dicts)"
   ]
  },
  {
   "cell_type": "code",
   "execution_count": 16,
   "id": "4fa4319b-9f1c-428e-aed3-e24234b5d383",
   "metadata": {},
   "outputs": [
    {
     "name": "stdout",
     "output_type": "stream",
     "text": [
      "0.3104272727272727\n",
      "0.1314\n",
      "0.4759\n"
     ]
    }
   ],
   "source": [
    "kappa_dict = final_IAA(file_dicts)\n",
    "print(np.mean([score for _, score in kappa_dict.items()]))\n",
    "print(np.min([score for _, score in kappa_dict.items()]))\n",
    "print(np.max([score for _, score in kappa_dict.items()]))"
   ]
  },
  {
   "cell_type": "markdown",
   "id": "45bfac59-66f6-4be8-a85b-aa8c5080a678",
   "metadata": {
    "jp-MarkdownHeadingCollapsed": true,
    "tags": []
   },
   "source": [
    "### SacreBLEU"
   ]
  },
  {
   "cell_type": "markdown",
   "id": "7bfb5479-c552-45e0-b893-7e78849e7a27",
   "metadata": {
    "tags": []
   },
   "source": [
    "#### before"
   ]
  },
  {
   "cell_type": "code",
   "execution_count": 121,
   "id": "f7446d1a-1b53-4997-859e-d89fdf7fe596",
   "metadata": {
    "collapsed": true,
    "jupyter": {
     "outputs_hidden": true,
     "source_hidden": true
    },
    "tags": []
   },
   "outputs": [
    {
     "name": "stderr",
     "output_type": "stream",
     "text": [
      "That's 100 lines that end in a tokenized period ('.')\n",
      "It looks like you forgot to detokenize your test data, which may hurt your score.\n",
      "If you insist your data is detokenized, or don't care, you can suppress this message with '--force'.\n"
     ]
    },
    {
     "name": "stdout",
     "output_type": "stream",
     "text": [
      "/bin/bash: --: invalid option\n",
      "Usage:\t/bin/bash [GNU long option] [option] ...\n",
      "\t/bin/bash [GNU long option] [option] script-file ...\n",
      "GNU long options:\n",
      "\t--debug\n",
      "\t--debugger\n",
      "\t--dump-po-strings\n",
      "\t--dump-strings\n",
      "\t--help\n",
      "\t--init-file\n",
      "\t--login\n",
      "\t--noediting\n",
      "\t--noprofile\n",
      "\t--norc\n",
      "\t--posix\n",
      "\t--rcfile\n",
      "\t--restricted\n",
      "\t--verbose\n",
      "\t--version\n",
      "Shell options:\n",
      "\t-ilrsD or -c command or -O shopt_option\t\t(invocation only)\n",
      "\t-abefhkmnptuvxBCHP or -o option\n"
     ]
    },
    {
     "name": "stderr",
     "output_type": "stream",
     "text": [
      "That's 100 lines that end in a tokenized period ('.')\n",
      "It looks like you forgot to detokenize your test data, which may hurt your score.\n",
      "If you insist your data is detokenized, or don't care, you can suppress this message with '--force'.\n"
     ]
    },
    {
     "name": "stdout",
     "output_type": "stream",
     "text": [
      "[MT_Y]\n",
      "BLEU:  19.785266218415302\n",
      "TER:  0.6547766323024055\n",
      "chrF 0.2707334386314116\n",
      "\n",
      "/bin/bash: --: invalid option\n",
      "Usage:\t/bin/bash [GNU long option] [option] ...\n",
      "\t/bin/bash [GNU long option] [option] script-file ...\n",
      "GNU long options:\n",
      "\t--debug\n",
      "\t--debugger\n",
      "\t--dump-po-strings\n",
      "\t--dump-strings\n",
      "\t--help\n",
      "\t--init-file\n",
      "\t--login\n",
      "\t--noediting\n",
      "\t--noprofile\n",
      "\t--norc\n",
      "\t--posix\n",
      "\t--rcfile\n",
      "\t--restricted\n",
      "\t--verbose\n",
      "\t--version\n",
      "Shell options:\n",
      "\t-ilrsD or -c command or -O shopt_option\t\t(invocation only)\n",
      "\t-abefhkmnptuvxBCHP or -o option\n",
      "[MT_Z]\n",
      "BLEU:  20.19309663896737\n",
      "TER:  0.6626804123711341\n",
      "chrF 0.26968267974474885\n",
      "\n",
      "CPU times: user 43.2 s, sys: 290 ms, total: 43.5 s\n",
      "Wall time: 43.7 s\n"
     ]
    }
   ],
   "source": [
    "%%time\n",
    "reference = before.Ref.tolist()\n",
    "hypothesis_y = before.MT_Y.tolist()\n",
    "hypothesis_z = before.MT_Z.tolist()\n",
    "\n",
    "reference = [' '.join(mecab(s)).replace(\"▃\", \"\").replace(\"  \", \" \") for s in reference]\n",
    "hypothesis_y = [' '.join(mecab(s)).replace(\"▃\", \"\").replace(\"  \", \" \") for s in hypothesis_y]\n",
    "hypothesis_z = [' '.join(mecab(s)).replace(\"▃\", \"\").replace(\"  \", \" \") for s in hypothesis_z]\n",
    "\n",
    "for system in [hypothesis_y, hypothesis_z]:\n",
    "    \n",
    "    bleu = sacrebleu.corpus_bleu(system, [reference])\n",
    "    ter = sacrebleu.corpus_ter(system, [reference])\n",
    "    !--force\n",
    "    chrf = sacrebleu.corpus_chrf(system, [reference])\n",
    "    \n",
    "    if system == hypothesis_y:\n",
    "        print(\"[MT_Y]\")\n",
    "    else:\n",
    "        print(\"[MT_Z]\")\n",
    "        \n",
    "    print(\"BLEU: \", bleu.score)\n",
    "    print(\"TER: \", ter.score)\n",
    "    print(\"chrF\", chrf.score)\n",
    "    print()"
   ]
  },
  {
   "cell_type": "markdown",
   "id": "216509e8-ea03-46dc-9bb9-b17538908136",
   "metadata": {
    "jp-MarkdownHeadingCollapsed": true,
    "tags": []
   },
   "source": [
    "#### after"
   ]
  },
  {
   "cell_type": "code",
   "execution_count": 120,
   "id": "1be1422a-78e7-4d24-acb9-1b52be90daa2",
   "metadata": {
    "collapsed": true,
    "jupyter": {
     "outputs_hidden": true
    },
    "tags": []
   },
   "outputs": [
    {
     "name": "stderr",
     "output_type": "stream",
     "text": [
      "That's 100 lines that end in a tokenized period ('.')\n",
      "It looks like you forgot to detokenize your test data, which may hurt your score.\n",
      "If you insist your data is detokenized, or don't care, you can suppress this message with '--force'.\n"
     ]
    },
    {
     "name": "stdout",
     "output_type": "stream",
     "text": [
      "/bin/bash: --: invalid option\n",
      "Usage:\t/bin/bash [GNU long option] [option] ...\n",
      "\t/bin/bash [GNU long option] [option] script-file ...\n",
      "GNU long options:\n",
      "\t--debug\n",
      "\t--debugger\n",
      "\t--dump-po-strings\n",
      "\t--dump-strings\n",
      "\t--help\n",
      "\t--init-file\n",
      "\t--login\n",
      "\t--noediting\n",
      "\t--noprofile\n",
      "\t--norc\n",
      "\t--posix\n",
      "\t--rcfile\n",
      "\t--restricted\n",
      "\t--verbose\n",
      "\t--version\n",
      "Shell options:\n",
      "\t-ilrsD or -c command or -O shopt_option\t\t(invocation only)\n",
      "\t-abefhkmnptuvxBCHP or -o option\n"
     ]
    },
    {
     "name": "stderr",
     "output_type": "stream",
     "text": [
      "That's 100 lines that end in a tokenized period ('.')\n",
      "It looks like you forgot to detokenize your test data, which may hurt your score.\n",
      "If you insist your data is detokenized, or don't care, you can suppress this message with '--force'.\n"
     ]
    },
    {
     "name": "stdout",
     "output_type": "stream",
     "text": [
      "[MT_Y]\n",
      "BLEU:  19.77921498933438\n",
      "TER:  0.6520962199312714\n",
      "chrF 0.271264889552056\n",
      "\n",
      "/bin/bash: --: invalid option\n",
      "Usage:\t/bin/bash [GNU long option] [option] ...\n",
      "\t/bin/bash [GNU long option] [option] script-file ...\n",
      "GNU long options:\n",
      "\t--debug\n",
      "\t--debugger\n",
      "\t--dump-po-strings\n",
      "\t--dump-strings\n",
      "\t--help\n",
      "\t--init-file\n",
      "\t--login\n",
      "\t--noediting\n",
      "\t--noprofile\n",
      "\t--norc\n",
      "\t--posix\n",
      "\t--rcfile\n",
      "\t--restricted\n",
      "\t--verbose\n",
      "\t--version\n",
      "Shell options:\n",
      "\t-ilrsD or -c command or -O shopt_option\t\t(invocation only)\n",
      "\t-abefhkmnptuvxBCHP or -o option\n",
      "[MT_Z]\n",
      "BLEU:  20.241028636714525\n",
      "TER:  0.6623367697594502\n",
      "chrF 0.2709943645290349\n",
      "\n",
      "CPU times: user 42.3 s, sys: 334 ms, total: 42.6 s\n",
      "Wall time: 42.8 s\n"
     ]
    }
   ],
   "source": [
    "%%time\n",
    "reference = after.Ref.tolist()\n",
    "hypothesis_y = after.MT_Y.tolist()\n",
    "hypothesis_z = after.MT_Z.tolist()\n",
    "\n",
    "reference = [' '.join(mecab(s)).replace(\"▃\", \"\").replace(\"  \", \" \") for s in reference]\n",
    "hypothesis_y = [' '.join(mecab(s)).replace(\"▃\", \"\").replace(\"  \", \" \") for s in hypothesis_y]\n",
    "hypothesis_z = [' '.join(mecab(s)).replace(\"▃\", \"\").replace(\"  \", \" \") for s in hypothesis_z]\n",
    "\n",
    "for system in [hypothesis_y, hypothesis_z]:\n",
    "    \n",
    "    bleu = sacrebleu.corpus_bleu(system, [reference])\n",
    "    ter = sacrebleu.corpus_ter(system, [reference])\n",
    "    !--force\n",
    "    chrf = sacrebleu.corpus_chrf(system, [reference])\n",
    "    \n",
    "    if system == hypothesis_y:\n",
    "        print(\"[MT_Y]\")\n",
    "    else:\n",
    "        print(\"[MT_Z]\")\n",
    "        \n",
    "    print(\"BLEU: \", bleu.score)\n",
    "    print(\"TER: \", ter.score)\n",
    "    print(\"chrF\", chrf.score)\n",
    "    print()"
   ]
  },
  {
   "cell_type": "markdown",
   "id": "2b6a5850-7675-41ea-ba51-6a9f0f9e65c2",
   "metadata": {},
   "source": [
    "#### Google Translate"
   ]
  },
  {
   "cell_type": "code",
   "execution_count": 84,
   "id": "67ffb796-b29f-4cbb-8461-734ea9acdc9b",
   "metadata": {},
   "outputs": [
    {
     "data": {
      "text/html": [
       "<div>\n",
       "<style scoped>\n",
       "    .dataframe tbody tr th:only-of-type {\n",
       "        vertical-align: middle;\n",
       "    }\n",
       "\n",
       "    .dataframe tbody tr th {\n",
       "        vertical-align: top;\n",
       "    }\n",
       "\n",
       "    .dataframe thead th {\n",
       "        text-align: right;\n",
       "    }\n",
       "</style>\n",
       "<table border=\"1\" class=\"dataframe\">\n",
       "  <thead>\n",
       "    <tr style=\"text-align: right;\">\n",
       "      <th></th>\n",
       "      <th>Google Before</th>\n",
       "      <th>Google After</th>\n",
       "      <th>TER</th>\n",
       "    </tr>\n",
       "  </thead>\n",
       "  <tbody>\n",
       "    <tr>\n",
       "      <th>0</th>\n",
       "      <td>왕실 뉴스: 베아트리체 공주가 어떻게 \"적대적인 가족 구성원들에게 분노에 반응했는지\"</td>\n",
       "      <td>Royal News : 공주님이 적대 가족 구성원들에게 분노와 반응 한 공주</td>\n",
       "      <td>0.9091</td>\n",
       "    </tr>\n",
       "  </tbody>\n",
       "</table>\n",
       "</div>"
      ],
      "text/plain": [
       "                                     Google Before  \\\n",
       "0  왕실 뉴스: 베아트리체 공주가 어떻게 \"적대적인 가족 구성원들에게 분노에 반응했는지\"   \n",
       "\n",
       "                                 Google After     TER  \n",
       "0  Royal News : 공주님이 적대 가족 구성원들에게 분노와 반응 한 공주  0.9091  "
      ]
     },
     "execution_count": 84,
     "metadata": {},
     "output_type": "execute_result"
    }
   ],
   "source": [
    "df = pd.read_csv(\"./data_out/_google+ter.csv\", sep=\"\\t\", encoding=\"utf-8\")\n",
    "del df[\"Unnamed: 0\"]\n",
    "df.head(1)"
   ]
  },
  {
   "cell_type": "code",
   "execution_count": 85,
   "id": "ccee14c7-3d60-43ed-8864-c443c6185aa3",
   "metadata": {},
   "outputs": [
    {
     "data": {
      "text/plain": [
       "437"
      ]
     },
     "execution_count": 85,
     "metadata": {},
     "output_type": "execute_result"
    }
   ],
   "source": [
    "len(df)"
   ]
  },
  {
   "cell_type": "code",
   "execution_count": 168,
   "id": "717643e8-0b54-4bed-b9b2-df2d9edbf949",
   "metadata": {
    "collapsed": true,
    "jupyter": {
     "outputs_hidden": true
    },
    "tags": []
   },
   "outputs": [
    {
     "name": "stderr",
     "output_type": "stream",
     "text": [
      "That's 100 lines that end in a tokenized period ('.')\n",
      "It looks like you forgot to detokenize your test data, which may hurt your score.\n",
      "If you insist your data is detokenized, or don't care, you can suppress this message with '--force'.\n"
     ]
    },
    {
     "name": "stdout",
     "output_type": "stream",
     "text": [
      "/bin/bash: --: invalid option\n",
      "Usage:\t/bin/bash [GNU long option] [option] ...\n",
      "\t/bin/bash [GNU long option] [option] script-file ...\n",
      "GNU long options:\n",
      "\t--debug\n",
      "\t--debugger\n",
      "\t--dump-po-strings\n",
      "\t--dump-strings\n",
      "\t--help\n",
      "\t--init-file\n",
      "\t--login\n",
      "\t--noediting\n",
      "\t--noprofile\n",
      "\t--norc\n",
      "\t--posix\n",
      "\t--rcfile\n",
      "\t--restricted\n",
      "\t--verbose\n",
      "\t--version\n",
      "Shell options:\n",
      "\t-ilrsD or -c command or -O shopt_option\t\t(invocation only)\n",
      "\t-abefhkmnptuvxBCHP or -o option\n"
     ]
    },
    {
     "name": "stderr",
     "output_type": "stream",
     "text": [
      "That's 100 lines that end in a tokenized period ('.')\n",
      "It looks like you forgot to detokenize your test data, which may hurt your score.\n",
      "If you insist your data is detokenized, or don't care, you can suppress this message with '--force'.\n"
     ]
    },
    {
     "name": "stdout",
     "output_type": "stream",
     "text": [
      "[Google Before]\n",
      "BLEU:  13.117676138341224\n",
      "TER:  0.7595189003436427\n",
      "chrF 0.19496856536087329\n",
      "\n",
      "/bin/bash: --: invalid option\n",
      "Usage:\t/bin/bash [GNU long option] [option] ...\n",
      "\t/bin/bash [GNU long option] [option] script-file ...\n",
      "GNU long options:\n",
      "\t--debug\n",
      "\t--debugger\n",
      "\t--dump-po-strings\n",
      "\t--dump-strings\n",
      "\t--help\n",
      "\t--init-file\n",
      "\t--login\n",
      "\t--noediting\n",
      "\t--noprofile\n",
      "\t--norc\n",
      "\t--posix\n",
      "\t--rcfile\n",
      "\t--restricted\n",
      "\t--verbose\n",
      "\t--version\n",
      "Shell options:\n",
      "\t-ilrsD or -c command or -O shopt_option\t\t(invocation only)\n",
      "\t-abefhkmnptuvxBCHP or -o option\n",
      "[Google After]\n",
      "BLEU:  9.492515518561063\n",
      "TER:  0.8156701030927835\n",
      "chrF 0.1588497884299075\n",
      "\n"
     ]
    }
   ],
   "source": [
    "reference = after.Ref.tolist()\n",
    "google_before = df[\"Google Before\"].tolist()\n",
    "google_after = df[\"Google After\"].tolist()\n",
    "\n",
    "reference = [' '.join(mecab(s)).replace(\"▃\", \"\").replace(\"  \", \" \") for s in reference]\n",
    "google_before = [' '.join(mecab(s)).replace(\"▃\", \"\").replace(\"  \", \" \") for s in google_before]\n",
    "google_after = [' '.join(mecab(s)).replace(\"▃\", \"\").replace(\"  \", \" \") for s in google_after]\n",
    "\n",
    "for case in [google_before, google_after]:\n",
    "    \n",
    "    bleu = sacrebleu.corpus_bleu(case, [reference])\n",
    "    ter = sacrebleu.corpus_ter(case, [reference])\n",
    "    !--force\n",
    "    chrf = sacrebleu.corpus_chrf(case, [reference])\n",
    "    \n",
    "    if case == google_before:\n",
    "        print(\"[Google Before]\")\n",
    "    else:\n",
    "        print(\"[Google After]\")\n",
    "        \n",
    "    print(\"BLEU: \", bleu.score)\n",
    "    print(\"TER: \", ter.score)\n",
    "    print(\"chrF\", chrf.score)\n",
    "    print()"
   ]
  },
  {
   "cell_type": "markdown",
   "id": "f66689e9-c927-4648-9ae0-06611fe78af5",
   "metadata": {},
   "source": [
    "### Qualitative Analysis with TER"
   ]
  },
  {
   "cell_type": "code",
   "execution_count": 86,
   "id": "5eecf6c2-dca6-485f-8b23-2d954f60698b",
   "metadata": {},
   "outputs": [],
   "source": [
    "mty = pd.read_csv(\"./data_out/_mtY_ter.csv\", sep=\"\\t\", encoding=\"utf-8\")\n",
    "mtz = pd.read_csv(\"./data_out/_mtZ_ter.csv\", sep=\"\\t\", encoding=\"utf-8\")"
   ]
  },
  {
   "cell_type": "code",
   "execution_count": 117,
   "id": "67f07911-ac65-441c-b8a9-e5a0fc20a501",
   "metadata": {},
   "outputs": [
    {
     "data": {
      "text/html": [
       "<div>\n",
       "<style scoped>\n",
       "    .dataframe tbody tr th:only-of-type {\n",
       "        vertical-align: middle;\n",
       "    }\n",
       "\n",
       "    .dataframe tbody tr th {\n",
       "        vertical-align: top;\n",
       "    }\n",
       "\n",
       "    .dataframe thead th {\n",
       "        text-align: right;\n",
       "    }\n",
       "</style>\n",
       "<table border=\"1\" class=\"dataframe\">\n",
       "  <thead>\n",
       "    <tr style=\"text-align: right;\">\n",
       "      <th></th>\n",
       "      <th>Unnamed: 0</th>\n",
       "      <th>Segment ID</th>\n",
       "      <th>Before_tokens</th>\n",
       "      <th>After_tokens</th>\n",
       "      <th>TER</th>\n",
       "    </tr>\n",
       "  </thead>\n",
       "  <tbody>\n",
       "    <tr>\n",
       "      <th>225</th>\n",
       "      <td>225</td>\n",
       "      <td>226</td>\n",
       "      <td>\" 만약 내 가 당신 을 위해 하 는 일 을 계속 하 려고 한다면 , 나 는 나 자신 을 해칠 것 입니다 .</td>\n",
       "      <td>내 가 널 위해 계속 노력 한다면 나 자신 을 해칠 거 야 .</td>\n",
       "      <td>1.0714</td>\n",
       "    </tr>\n",
       "    <tr>\n",
       "      <th>298</th>\n",
       "      <td>298</td>\n",
       "      <td>299</td>\n",
       "      <td>\" 주립 대학 노동자 들 \" 이 가장 압박 하 는 불만 사항 은 낮 은 임금 과 직장 에서 의 품위 부족 에 집중 되 어 있 다 .</td>\n",
       "      <td>주립 대 근로자 들 의 가장 큰 불만 은 저 임금 과 직장 의 품위 저하 에 있 다 .</td>\n",
       "      <td>0.8000</td>\n",
       "    </tr>\n",
       "  </tbody>\n",
       "</table>\n",
       "</div>"
      ],
      "text/plain": [
       "     Unnamed: 0  Segment ID  \\\n",
       "225         225         226   \n",
       "298         298         299   \n",
       "\n",
       "                                                                 Before_tokens  \\\n",
       "225               \" 만약 내 가 당신 을 위해 하 는 일 을 계속 하 려고 한다면 , 나 는 나 자신 을 해칠 것 입니다 .   \n",
       "298  \" 주립 대학 노동자 들 \" 이 가장 압박 하 는 불만 사항 은 낮 은 임금 과 직장 에서 의 품위 부족 에 집중 되 어 있 다 .   \n",
       "\n",
       "                                         After_tokens     TER  \n",
       "225                내 가 널 위해 계속 노력 한다면 나 자신 을 해칠 거 야 .  1.0714  \n",
       "298  주립 대 근로자 들 의 가장 큰 불만 은 저 임금 과 직장 의 품위 저하 에 있 다 .  0.8000  "
      ]
     },
     "execution_count": 117,
     "metadata": {},
     "output_type": "execute_result"
    }
   ],
   "source": [
    "mty[mty.TER >= 0.8]"
   ]
  },
  {
   "cell_type": "code",
   "execution_count": 118,
   "id": "2eb2336c-4939-4a0b-9f73-74e59fa53c57",
   "metadata": {},
   "outputs": [
    {
     "data": {
      "text/html": [
       "<div>\n",
       "<style scoped>\n",
       "    .dataframe tbody tr th:only-of-type {\n",
       "        vertical-align: middle;\n",
       "    }\n",
       "\n",
       "    .dataframe tbody tr th {\n",
       "        vertical-align: top;\n",
       "    }\n",
       "\n",
       "    .dataframe thead th {\n",
       "        text-align: right;\n",
       "    }\n",
       "</style>\n",
       "<table border=\"1\" class=\"dataframe\">\n",
       "  <thead>\n",
       "    <tr style=\"text-align: right;\">\n",
       "      <th></th>\n",
       "      <th>Unnamed: 0</th>\n",
       "      <th>Segment ID</th>\n",
       "      <th>Before_tokens</th>\n",
       "      <th>After_tokens</th>\n",
       "      <th>TER</th>\n",
       "    </tr>\n",
       "  </thead>\n",
       "  <tbody>\n",
       "    <tr>\n",
       "      <th>345</th>\n",
       "      <td>345</td>\n",
       "      <td>346</td>\n",
       "      <td>일 하 는 엄마 로서 아기 와 함께 여행 하 는 것 , 세상 에 , 정말 많 은 일 이 긴 하 지만 , 모든 것 이 너무 흥미진진 해 .</td>\n",
       "      <td>일 하 는 엄마 로서 아기 와 함께 여행 하 는 것 도 좋 지만 , 정말 신 나 . \"</td>\n",
       "      <td>0.8571</td>\n",
       "    </tr>\n",
       "  </tbody>\n",
       "</table>\n",
       "</div>"
      ],
      "text/plain": [
       "     Unnamed: 0  Segment ID  \\\n",
       "345         345         346   \n",
       "\n",
       "                                                                    Before_tokens  \\\n",
       "345  일 하 는 엄마 로서 아기 와 함께 여행 하 는 것 , 세상 에 , 정말 많 은 일 이 긴 하 지만 , 모든 것 이 너무 흥미진진 해 .   \n",
       "\n",
       "                                         After_tokens     TER  \n",
       "345  일 하 는 엄마 로서 아기 와 함께 여행 하 는 것 도 좋 지만 , 정말 신 나 . \"  0.8571  "
      ]
     },
     "execution_count": 118,
     "metadata": {},
     "output_type": "execute_result"
    }
   ],
   "source": [
    "mtz[mtz.TER >= 0.8]"
   ]
  },
  {
   "cell_type": "code",
   "execution_count": 121,
   "id": "60e7133a-dc20-4e22-b6e9-01a41df1d837",
   "metadata": {},
   "outputs": [
    {
     "data": {
      "text/html": [
       "<div>\n",
       "<style scoped>\n",
       "    .dataframe tbody tr th:only-of-type {\n",
       "        vertical-align: middle;\n",
       "    }\n",
       "\n",
       "    .dataframe tbody tr th {\n",
       "        vertical-align: top;\n",
       "    }\n",
       "\n",
       "    .dataframe thead th {\n",
       "        text-align: right;\n",
       "    }\n",
       "</style>\n",
       "<table border=\"1\" class=\"dataframe\">\n",
       "  <thead>\n",
       "    <tr style=\"text-align: right;\">\n",
       "      <th></th>\n",
       "      <th>Segment ID</th>\n",
       "      <th>Source Segment</th>\n",
       "      <th>Ref</th>\n",
       "      <th>MT_Y</th>\n",
       "      <th>MT_Z</th>\n",
       "      <th>Ref_rating</th>\n",
       "      <th>MT_Y_rating</th>\n",
       "      <th>MT_Z_rating</th>\n",
       "      <th>Error</th>\n",
       "    </tr>\n",
       "  </thead>\n",
       "  <tbody>\n",
       "    <tr>\n",
       "      <th>345</th>\n",
       "      <td>346</td>\n",
       "      <td>Being a working mum and travelling as well with a baby, my goodness it's a lot, but it's all so exciting.</td>\n",
       "      <td>워킹맘이 되고 아기와 돌아다니는 건 세상에나 정말 벅차다, 그러지만 둘다 정말 즐겁다.”</td>\n",
       "      <td>일하는 엄마로서, 아이와 함께 여행한다는 것, 세상에, 많은 일이지만, 모든 것이 너무 신나요.</td>\n",
       "      <td>일하는 엄마로서 아기와 함께 여행하는 것, 세상에, 정말 많은 일이긴 하지만, 모든 것이 너무 흥미진진해.</td>\n",
       "      <td>1</td>\n",
       "      <td>2</td>\n",
       "      <td>2</td>\n",
       "      <td>T</td>\n",
       "    </tr>\n",
       "  </tbody>\n",
       "</table>\n",
       "</div>"
      ],
      "text/plain": [
       "     Segment ID  \\\n",
       "345         346   \n",
       "\n",
       "                                                                                                Source Segment  \\\n",
       "345  Being a working mum and travelling as well with a baby, my goodness it's a lot, but it's all so exciting.   \n",
       "\n",
       "                                                   Ref  \\\n",
       "345  워킹맘이 되고 아기와 돌아다니는 건 세상에나 정말 벅차다, 그러지만 둘다 정말 즐겁다.”   \n",
       "\n",
       "                                                      MT_Y  \\\n",
       "345  일하는 엄마로서, 아이와 함께 여행한다는 것, 세상에, 많은 일이지만, 모든 것이 너무 신나요.   \n",
       "\n",
       "                                                            MT_Z  Ref_rating  \\\n",
       "345  일하는 엄마로서 아기와 함께 여행하는 것, 세상에, 정말 많은 일이긴 하지만, 모든 것이 너무 흥미진진해.           1   \n",
       "\n",
       "     MT_Y_rating  MT_Z_rating Error  \n",
       "345            2            2     T  "
      ]
     },
     "execution_count": 121,
     "metadata": {},
     "output_type": "execute_result"
    }
   ],
   "source": [
    "before[before[\"Segment ID\"] == 346]"
   ]
  },
  {
   "cell_type": "code",
   "execution_count": 122,
   "id": "04cdf956-d33d-4415-8139-51b91738e9df",
   "metadata": {},
   "outputs": [
    {
     "data": {
      "text/html": [
       "<div>\n",
       "<style scoped>\n",
       "    .dataframe tbody tr th:only-of-type {\n",
       "        vertical-align: middle;\n",
       "    }\n",
       "\n",
       "    .dataframe tbody tr th {\n",
       "        vertical-align: top;\n",
       "    }\n",
       "\n",
       "    .dataframe thead th {\n",
       "        text-align: right;\n",
       "    }\n",
       "</style>\n",
       "<table border=\"1\" class=\"dataframe\">\n",
       "  <thead>\n",
       "    <tr style=\"text-align: right;\">\n",
       "      <th></th>\n",
       "      <th>Segment ID</th>\n",
       "      <th>Source Segment</th>\n",
       "      <th>Ref</th>\n",
       "      <th>MT_Y</th>\n",
       "      <th>MT_Z</th>\n",
       "      <th>Ref_rating</th>\n",
       "      <th>MT_Y_rating</th>\n",
       "      <th>MT_Z_rating</th>\n",
       "      <th>Error</th>\n",
       "    </tr>\n",
       "  </thead>\n",
       "  <tbody>\n",
       "    <tr>\n",
       "      <th>345</th>\n",
       "      <td>346</td>\n",
       "      <td>Being a working mum and travelling as well with a baby, my goodness it's a lot, but it's all so exciting.”</td>\n",
       "      <td>워킹맘이 되고 아기와 돌아다니는 건 세상에나 정말 벅차다, 그러지만 둘다 정말 즐겁다.”</td>\n",
       "      <td>일하는 엄마로서, 그리고 아이와 함께 여행한다는 것, 정말 많은 일이지만, 모든 것이 너무 즐겁습니다.\"</td>\n",
       "      <td>일하는 엄마로서 아기와 함께 여행하는 것도 좋지만, 정말 신나.\"</td>\n",
       "      <td>1</td>\n",
       "      <td>1</td>\n",
       "      <td>2</td>\n",
       "      <td>T</td>\n",
       "    </tr>\n",
       "  </tbody>\n",
       "</table>\n",
       "</div>"
      ],
      "text/plain": [
       "     Segment ID  \\\n",
       "345         346   \n",
       "\n",
       "                                                                                                 Source Segment  \\\n",
       "345  Being a working mum and travelling as well with a baby, my goodness it's a lot, but it's all so exciting.”   \n",
       "\n",
       "                                                   Ref  \\\n",
       "345  워킹맘이 되고 아기와 돌아다니는 건 세상에나 정말 벅차다, 그러지만 둘다 정말 즐겁다.”   \n",
       "\n",
       "                                                           MT_Y  \\\n",
       "345  일하는 엄마로서, 그리고 아이와 함께 여행한다는 것, 정말 많은 일이지만, 모든 것이 너무 즐겁습니다.\"   \n",
       "\n",
       "                                     MT_Z  Ref_rating  MT_Y_rating  \\\n",
       "345  일하는 엄마로서 아기와 함께 여행하는 것도 좋지만, 정말 신나.\"           1            1   \n",
       "\n",
       "     MT_Z_rating Error  \n",
       "345            2     T  "
      ]
     },
     "execution_count": 122,
     "metadata": {},
     "output_type": "execute_result"
    }
   ],
   "source": [
    "after[after[\"Segment ID\"] == 346]"
   ]
  },
  {
   "cell_type": "code",
   "execution_count": 169,
   "id": "d8d62cfe-649f-4356-8da3-1c2d68109724",
   "metadata": {
    "tags": []
   },
   "outputs": [
    {
     "data": {
      "text/html": [
       "<div>\n",
       "<style scoped>\n",
       "    .dataframe tbody tr th:only-of-type {\n",
       "        vertical-align: middle;\n",
       "    }\n",
       "\n",
       "    .dataframe tbody tr th {\n",
       "        vertical-align: top;\n",
       "    }\n",
       "\n",
       "    .dataframe thead th {\n",
       "        text-align: right;\n",
       "    }\n",
       "</style>\n",
       "<table border=\"1\" class=\"dataframe\">\n",
       "  <thead>\n",
       "    <tr style=\"text-align: right;\">\n",
       "      <th></th>\n",
       "      <th>Google Before</th>\n",
       "      <th>Google After</th>\n",
       "      <th>TER</th>\n",
       "    </tr>\n",
       "  </thead>\n",
       "  <tbody>\n",
       "    <tr>\n",
       "      <th>0</th>\n",
       "      <td>왕실 뉴스: 베아트리체 공주가 어떻게 \"적대적인 가족 구성원들에게 분노에 반응했는지\"</td>\n",
       "      <td>Royal News : 공주님이 적대 가족 구성원들에게 분노와 반응 한 공주</td>\n",
       "      <td>30.84375</td>\n",
       "    </tr>\n",
       "  </tbody>\n",
       "</table>\n",
       "</div>"
      ],
      "text/plain": [
       "                                     Google Before  \\\n",
       "0  왕실 뉴스: 베아트리체 공주가 어떻게 \"적대적인 가족 구성원들에게 분노에 반응했는지\"   \n",
       "\n",
       "                                 Google After       TER  \n",
       "0  Royal News : 공주님이 적대 가족 구성원들에게 분노와 반응 한 공주  30.84375  "
      ]
     },
     "execution_count": 169,
     "metadata": {},
     "output_type": "execute_result"
    }
   ],
   "source": [
    "ter=[]\n",
    "for bts, ats in zip(google_before, google_after):\n",
    "    score = sacrebleu.sentence_ter(bts, ats)\n",
    "    ter.append(score.score)\n",
    "    \n",
    "df[\"TER\"] = ter\n",
    "df.head(1)"
   ]
  },
  {
   "cell_type": "code",
   "execution_count": 170,
   "id": "cfec35c3-f0f8-4b20-8210-27970bbc25c1",
   "metadata": {},
   "outputs": [
    {
     "data": {
      "text/html": [
       "<div>\n",
       "<style scoped>\n",
       "    .dataframe tbody tr th:only-of-type {\n",
       "        vertical-align: middle;\n",
       "    }\n",
       "\n",
       "    .dataframe tbody tr th {\n",
       "        vertical-align: top;\n",
       "    }\n",
       "\n",
       "    .dataframe thead th {\n",
       "        text-align: right;\n",
       "    }\n",
       "</style>\n",
       "<table border=\"1\" class=\"dataframe\">\n",
       "  <thead>\n",
       "    <tr style=\"text-align: right;\">\n",
       "      <th></th>\n",
       "      <th>Google Before</th>\n",
       "      <th>Google After</th>\n",
       "      <th>TER</th>\n",
       "    </tr>\n",
       "  </thead>\n",
       "  <tbody>\n",
       "    <tr>\n",
       "      <th>42</th>\n",
       "      <td>HSBC의 클라이언트 네트워크 뱅킹 글로벌 책임자인 스튜어트 니비슨(Stuart N...</td>\n",
       "      <td>\"그것은 금융 범죄 예방에 대한 투자의 첫 번째 상업적 용도 중 하나이며, 우리 가...</td>\n",
       "      <td>106.144330</td>\n",
       "    </tr>\n",
       "    <tr>\n",
       "      <th>128</th>\n",
       "      <td>\"이 상은 정치적 설득이 전혀 다른 공적 삶의 사람들이 자신의 주장을 품위와 정중함...</td>\n",
       "      <td>\"이러한상은 사례와 정중함으로 사건을 주장하는 정치인들에 대한 스포트라이트를 비추고...</td>\n",
       "      <td>106.600000</td>\n",
       "    </tr>\n",
       "    <tr>\n",
       "      <th>316</th>\n",
       "      <td>프레드 마이어(Fred Meyer) 슈퍼마켓 체인의 식료품점 노동자들은 고용주에 대...</td>\n",
       "      <td>Fred Meyer 슈퍼마켓 체인의 식료품 점 노동자는 고용주에 대한 캠페인을 늘리...</td>\n",
       "      <td>109.935484</td>\n",
       "    </tr>\n",
       "    <tr>\n",
       "      <th>333</th>\n",
       "      <td>그녀는 Meghan이 참석하는 것이 '계층적 느낌이 들지 않았다'고 덧붙였습니다. ...</td>\n",
       "      <td>그녀는 \"계층 적으로 느끼지 못한다\"라고 덧붙였다. 그것은 \"우리가 가진 여성들과 ...</td>\n",
       "      <td>105.447619</td>\n",
       "    </tr>\n",
       "    <tr>\n",
       "      <th>364</th>\n",
       "      <td>대변인은 다음과 같이 말했습니다. \"이제 가능합니다 - 정치적 의지가있을 경우 - ...</td>\n",
       "      <td>대변인은 다음과 같이 말했습니다. Benn Act 주위를 얻는 방법은 일시적인 Ca...</td>\n",
       "      <td>146.571429</td>\n",
       "    </tr>\n",
       "    <tr>\n",
       "      <th>382</th>\n",
       "      <td>전반적으로 폐하의 좌우명 및 화재 및 구조 서비스 (HMICFR)의 폐하의 검사관이...</td>\n",
       "      <td>전반적으로 폐하의 좌우명 및 화재 및 구조 서비스 (HMICFR)의 폐하의 검사관이...</td>\n",
       "      <td>101.163462</td>\n",
       "    </tr>\n",
       "    <tr>\n",
       "      <th>400</th>\n",
       "      <td>그는 \"공정성과 존경심으로 인력을 지속적으로 취급하지 않으며 효과적으로 인력과 의사...</td>\n",
       "      <td>그는 \"공정성과 존경심으로 인력을 지속적으로 취급하지 않으며 효과적으로 인력과 의사...</td>\n",
       "      <td>102.463158</td>\n",
       "    </tr>\n",
       "  </tbody>\n",
       "</table>\n",
       "</div>"
      ],
      "text/plain": [
       "                                         Google Before  \\\n",
       "42   HSBC의 클라이언트 네트워크 뱅킹 글로벌 책임자인 스튜어트 니비슨(Stuart N...   \n",
       "128  \"이 상은 정치적 설득이 전혀 다른 공적 삶의 사람들이 자신의 주장을 품위와 정중함...   \n",
       "316  프레드 마이어(Fred Meyer) 슈퍼마켓 체인의 식료품점 노동자들은 고용주에 대...   \n",
       "333  그녀는 Meghan이 참석하는 것이 '계층적 느낌이 들지 않았다'고 덧붙였습니다. ...   \n",
       "364  대변인은 다음과 같이 말했습니다. \"이제 가능합니다 - 정치적 의지가있을 경우 - ...   \n",
       "382  전반적으로 폐하의 좌우명 및 화재 및 구조 서비스 (HMICFR)의 폐하의 검사관이...   \n",
       "400  그는 \"공정성과 존경심으로 인력을 지속적으로 취급하지 않으며 효과적으로 인력과 의사...   \n",
       "\n",
       "                                          Google After         TER  \n",
       "42   \"그것은 금융 범죄 예방에 대한 투자의 첫 번째 상업적 용도 중 하나이며, 우리 가...  106.144330  \n",
       "128  \"이러한상은 사례와 정중함으로 사건을 주장하는 정치인들에 대한 스포트라이트를 비추고...  106.600000  \n",
       "316  Fred Meyer 슈퍼마켓 체인의 식료품 점 노동자는 고용주에 대한 캠페인을 늘리...  109.935484  \n",
       "333  그녀는 \"계층 적으로 느끼지 못한다\"라고 덧붙였다. 그것은 \"우리가 가진 여성들과 ...  105.447619  \n",
       "364  대변인은 다음과 같이 말했습니다. Benn Act 주위를 얻는 방법은 일시적인 Ca...  146.571429  \n",
       "382  전반적으로 폐하의 좌우명 및 화재 및 구조 서비스 (HMICFR)의 폐하의 검사관이...  101.163462  \n",
       "400  그는 \"공정성과 존경심으로 인력을 지속적으로 취급하지 않으며 효과적으로 인력과 의사...  102.463158  "
      ]
     },
     "execution_count": 170,
     "metadata": {},
     "output_type": "execute_result"
    }
   ],
   "source": [
    "df[df.TER >= 100]"
   ]
  },
  {
   "cell_type": "code",
   "execution_count": 172,
   "id": "370155d9-9c6c-462f-8475-c85953e6f9d0",
   "metadata": {},
   "outputs": [],
   "source": [
    "#df.to_csv(\"./data_out/_google+ter.csv\", sep=\"\\t\", encoding=\"utf-8\")"
   ]
  },
  {
   "cell_type": "code",
   "execution_count": 72,
   "id": "ca4e67d3-28bf-4ad0-a1f3-36e1bc917e1e",
   "metadata": {},
   "outputs": [
    {
     "data": {
      "text/html": [
       "<div>\n",
       "<style scoped>\n",
       "    .dataframe tbody tr th:only-of-type {\n",
       "        vertical-align: middle;\n",
       "    }\n",
       "\n",
       "    .dataframe tbody tr th {\n",
       "        vertical-align: top;\n",
       "    }\n",
       "\n",
       "    .dataframe thead th {\n",
       "        text-align: right;\n",
       "    }\n",
       "</style>\n",
       "<table border=\"1\" class=\"dataframe\">\n",
       "  <thead>\n",
       "    <tr style=\"text-align: right;\">\n",
       "      <th></th>\n",
       "      <th>Segment ID</th>\n",
       "      <th>Source Segment</th>\n",
       "      <th>Ref</th>\n",
       "      <th>MT_Y</th>\n",
       "      <th>MT_Z</th>\n",
       "      <th>Ref_rating</th>\n",
       "      <th>MT_Y_rating</th>\n",
       "      <th>MT_Z_rating</th>\n",
       "      <th>Error</th>\n",
       "      <th>MT_Y_TER</th>\n",
       "      <th>MT_Z_TER</th>\n",
       "      <th>MT_Y_tokens</th>\n",
       "      <th>MT_Z_tokens</th>\n",
       "    </tr>\n",
       "  </thead>\n",
       "  <tbody>\n",
       "    <tr>\n",
       "      <th>0</th>\n",
       "      <td>1</td>\n",
       "      <td>Royal news: How Princess Beatrice \"reacted with fury at hostile family members\"</td>\n",
       "      <td>영국 왕실 뉴스: 베아트리스 공주, ‘적대적인 왕실 구성원들에게 이렇게 분노 표출해’</td>\n",
       "      <td>왕실 뉴스: 베아트리체 공주가 \"적대하는 가족들에게 분노의 반응을 보였다\"</td>\n",
       "      <td>왕실 뉴스: 베아트리체 공주가 적대적인 가족들에게 분노로 어떻게 반응했는가</td>\n",
       "      <td>2</td>\n",
       "      <td>2</td>\n",
       "      <td>1</td>\n",
       "      <td>F</td>\n",
       "      <td>29.939394</td>\n",
       "      <td>25.757576</td>\n",
       "      <td>왕실 뉴스 : 베아트리체 공주 가 적대 적 인 가족 들 에게 분노 로 어떻게 반응 했 는가</td>\n",
       "      <td>왕실 뉴스 : 베아트리체 공주 가 \" 적대 하 는 가족 들 에게 분노 의 반응 을 보였 다 \"</td>\n",
       "    </tr>\n",
       "  </tbody>\n",
       "</table>\n",
       "</div>"
      ],
      "text/plain": [
       "   Segment ID  \\\n",
       "0           1   \n",
       "\n",
       "                                                                    Source Segment  \\\n",
       "0  Royal news: How Princess Beatrice \"reacted with fury at hostile family members\"   \n",
       "\n",
       "                                               Ref  \\\n",
       "0  영국 왕실 뉴스: 베아트리스 공주, ‘적대적인 왕실 구성원들에게 이렇게 분노 표출해’   \n",
       "\n",
       "                                        MT_Y  \\\n",
       "0  왕실 뉴스: 베아트리체 공주가 \"적대하는 가족들에게 분노의 반응을 보였다\"   \n",
       "\n",
       "                                        MT_Z  Ref_rating  MT_Y_rating  \\\n",
       "0  왕실 뉴스: 베아트리체 공주가 적대적인 가족들에게 분노로 어떻게 반응했는가           2            2   \n",
       "\n",
       "   MT_Z_rating Error   MT_Y_TER   MT_Z_TER  \\\n",
       "0            1     F  29.939394  25.757576   \n",
       "\n",
       "                                          MT_Y_tokens  \\\n",
       "0  왕실 뉴스 : 베아트리체 공주 가 적대 적 인 가족 들 에게 분노 로 어떻게 반응 했 는가   \n",
       "\n",
       "                                            MT_Z_tokens  \n",
       "0  왕실 뉴스 : 베아트리체 공주 가 \" 적대 하 는 가족 들 에게 분노 의 반응 을 보였 다 \"  "
      ]
     },
     "execution_count": 72,
     "metadata": {},
     "output_type": "execute_result"
    }
   ],
   "source": [
    "before.head(1)"
   ]
  },
  {
   "cell_type": "code",
   "execution_count": 74,
   "id": "c9c35125-2b03-4d21-b2d4-776ffcb69eb7",
   "metadata": {
    "collapsed": true,
    "jupyter": {
     "outputs_hidden": true
    },
    "tags": []
   },
   "outputs": [
    {
     "name": "stdout",
     "output_type": "stream",
     "text": [
      "CPU times: user 4.82 s, sys: 8.25 ms, total: 4.83 s\n",
      "Wall time: 4.83 s\n"
     ]
    },
    {
     "data": {
      "text/html": [
       "<div>\n",
       "<style scoped>\n",
       "    .dataframe tbody tr th:only-of-type {\n",
       "        vertical-align: middle;\n",
       "    }\n",
       "\n",
       "    .dataframe tbody tr th {\n",
       "        vertical-align: top;\n",
       "    }\n",
       "\n",
       "    .dataframe thead th {\n",
       "        text-align: right;\n",
       "    }\n",
       "</style>\n",
       "<table border=\"1\" class=\"dataframe\">\n",
       "  <thead>\n",
       "    <tr style=\"text-align: right;\">\n",
       "      <th></th>\n",
       "      <th>Segment ID</th>\n",
       "      <th>Source Segment</th>\n",
       "      <th>Ref</th>\n",
       "      <th>MT_Y</th>\n",
       "      <th>MT_Z</th>\n",
       "      <th>Ref_rating</th>\n",
       "      <th>MT_Y_rating</th>\n",
       "      <th>MT_Z_rating</th>\n",
       "      <th>Error</th>\n",
       "      <th>MT_Y_TER</th>\n",
       "      <th>MT_Z_TER</th>\n",
       "      <th>MT_Y_tokens</th>\n",
       "      <th>MT_Z_tokens</th>\n",
       "    </tr>\n",
       "  </thead>\n",
       "  <tbody>\n",
       "    <tr>\n",
       "      <th>0</th>\n",
       "      <td>1</td>\n",
       "      <td>Royal news: How Princess Beatrice \"reacted with fury at hostile family members\"</td>\n",
       "      <td>영국 왕실 뉴스: 베아트리스 공주, ‘적대적인 왕실 구성원들에게 이렇게 분노 표출해’</td>\n",
       "      <td>왕실 뉴스: 베아트리체 공주가 \"적대하는 가족들에게 분노의 반응을 보였다\"</td>\n",
       "      <td>왕실 뉴스: 베아트리체 공주가 적대적인 가족들에게 분노로 어떻게 반응했는가</td>\n",
       "      <td>2</td>\n",
       "      <td>2</td>\n",
       "      <td>1</td>\n",
       "      <td>F</td>\n",
       "      <td>29.939394</td>\n",
       "      <td>25.757576</td>\n",
       "      <td>왕실 뉴스 : 베아트리체 공주 가 \" 적대 하 는 가족 들 에게 분노 의 반응 을 보였 다 \"</td>\n",
       "      <td>왕실 뉴스 : 베아트리체 공주 가 \" 적대 하 는 가족 들 에게 분노 의 반응 을 보였 다 \"</td>\n",
       "    </tr>\n",
       "  </tbody>\n",
       "</table>\n",
       "</div>"
      ],
      "text/plain": [
       "   Segment ID  \\\n",
       "0           1   \n",
       "\n",
       "                                                                    Source Segment  \\\n",
       "0  Royal news: How Princess Beatrice \"reacted with fury at hostile family members\"   \n",
       "\n",
       "                                               Ref  \\\n",
       "0  영국 왕실 뉴스: 베아트리스 공주, ‘적대적인 왕실 구성원들에게 이렇게 분노 표출해’   \n",
       "\n",
       "                                        MT_Y  \\\n",
       "0  왕실 뉴스: 베아트리체 공주가 \"적대하는 가족들에게 분노의 반응을 보였다\"   \n",
       "\n",
       "                                        MT_Z  Ref_rating  MT_Y_rating  \\\n",
       "0  왕실 뉴스: 베아트리체 공주가 적대적인 가족들에게 분노로 어떻게 반응했는가           2            2   \n",
       "\n",
       "   MT_Z_rating Error   MT_Y_TER   MT_Z_TER  \\\n",
       "0            1     F  29.939394  25.757576   \n",
       "\n",
       "                                            MT_Y_tokens  \\\n",
       "0  왕실 뉴스 : 베아트리체 공주 가 \" 적대 하 는 가족 들 에게 분노 의 반응 을 보였 다 \"   \n",
       "\n",
       "                                            MT_Z_tokens  \n",
       "0  왕실 뉴스 : 베아트리체 공주 가 \" 적대 하 는 가족 들 에게 분노 의 반응 을 보였 다 \"  "
      ]
     },
     "execution_count": 74,
     "metadata": {},
     "output_type": "execute_result"
    }
   ],
   "source": [
    "%%time\n",
    "bts_y = before.MT_Y.tolist()\n",
    "ats_y = after.MT_Y.tolist()\n",
    "\n",
    "bts_y = [' '.join(mecab(s)).replace(\"▃\", \"\").replace(\"  \", \" \") for s in bts_y]\n",
    "ats_y = [' '.join(mecab(s)).replace(\"▃\", \"\").replace(\"  \", \" \") for s in ats_y]\n",
    "\n",
    "before[\"MT_Y_tokens\"] = bts_y\n",
    "after[\"MT_Y_tokens\"] = ats_y\n",
    "\n",
    "\n",
    "ter=[]\n",
    "for bts, ats in zip(bts_y, ats_y):\n",
    "    score = sacrebleu.sentence_ter(bts, ats).score\n",
    "    ter.append(score)\n",
    "    \n",
    "before[\"MT_Y_TER\"] = ter\n",
    "before.head(1)"
   ]
  },
  {
   "cell_type": "code",
   "execution_count": 75,
   "id": "dbe9a24b-a92a-48f8-9c99-9820e8f5ffee",
   "metadata": {},
   "outputs": [
    {
     "data": {
      "text/html": [
       "<div>\n",
       "<style scoped>\n",
       "    .dataframe tbody tr th:only-of-type {\n",
       "        vertical-align: middle;\n",
       "    }\n",
       "\n",
       "    .dataframe tbody tr th {\n",
       "        vertical-align: top;\n",
       "    }\n",
       "\n",
       "    .dataframe thead th {\n",
       "        text-align: right;\n",
       "    }\n",
       "</style>\n",
       "<table border=\"1\" class=\"dataframe\">\n",
       "  <thead>\n",
       "    <tr style=\"text-align: right;\">\n",
       "      <th></th>\n",
       "      <th>Segment ID</th>\n",
       "      <th>Source Segment</th>\n",
       "      <th>Ref</th>\n",
       "      <th>MT_Y</th>\n",
       "      <th>MT_Z</th>\n",
       "      <th>Ref_rating</th>\n",
       "      <th>MT_Y_rating</th>\n",
       "      <th>MT_Z_rating</th>\n",
       "      <th>Error</th>\n",
       "      <th>MT_Z_tokens</th>\n",
       "      <th>MT_Y_tokens</th>\n",
       "    </tr>\n",
       "  </thead>\n",
       "  <tbody>\n",
       "    <tr>\n",
       "      <th>0</th>\n",
       "      <td>1</td>\n",
       "      <td>Royal news: How Princess Beatrice \"reacted with fury at hostile family members\"</td>\n",
       "      <td>영국 왕실 뉴스: 베아트리스 공주, ‘적대적인 왕실 구성원들에게 이렇게 분노 표출해’</td>\n",
       "      <td>왕실 뉴스: 베아트리체 공주가 \"적대하는 가족들에게 분노의 반응을 보였다\"</td>\n",
       "      <td>왕실 뉴스: 베아트리체 공주가 적대적인 가족들에게 분노로 어떻게 반응했는가</td>\n",
       "      <td>1</td>\n",
       "      <td>2</td>\n",
       "      <td>1</td>\n",
       "      <td>F</td>\n",
       "      <td>왕실 뉴스 : 베아트리체 공주 가 적대 적 인 가족 들 에게 분노 로 어떻게 반응 했 는가</td>\n",
       "      <td>왕실 뉴스 : 베아트리체 공주 가 \" 적대 하 는 가족 들 에게 분노 의 반응 을 보였 다 \"</td>\n",
       "    </tr>\n",
       "  </tbody>\n",
       "</table>\n",
       "</div>"
      ],
      "text/plain": [
       "   Segment ID  \\\n",
       "0           1   \n",
       "\n",
       "                                                                    Source Segment  \\\n",
       "0  Royal news: How Princess Beatrice \"reacted with fury at hostile family members\"   \n",
       "\n",
       "                                               Ref  \\\n",
       "0  영국 왕실 뉴스: 베아트리스 공주, ‘적대적인 왕실 구성원들에게 이렇게 분노 표출해’   \n",
       "\n",
       "                                        MT_Y  \\\n",
       "0  왕실 뉴스: 베아트리체 공주가 \"적대하는 가족들에게 분노의 반응을 보였다\"   \n",
       "\n",
       "                                        MT_Z  Ref_rating  MT_Y_rating  \\\n",
       "0  왕실 뉴스: 베아트리체 공주가 적대적인 가족들에게 분노로 어떻게 반응했는가           1            2   \n",
       "\n",
       "   MT_Z_rating Error                                         MT_Z_tokens  \\\n",
       "0            1     F  왕실 뉴스 : 베아트리체 공주 가 적대 적 인 가족 들 에게 분노 로 어떻게 반응 했 는가   \n",
       "\n",
       "                                            MT_Y_tokens  \n",
       "0  왕실 뉴스 : 베아트리체 공주 가 \" 적대 하 는 가족 들 에게 분노 의 반응 을 보였 다 \"  "
      ]
     },
     "execution_count": 75,
     "metadata": {},
     "output_type": "execute_result"
    }
   ],
   "source": [
    "after.head(1)"
   ]
  },
  {
   "cell_type": "code",
   "execution_count": 42,
   "id": "716696da-bf6a-4427-afd7-b8da730523fe",
   "metadata": {
    "collapsed": true,
    "jupyter": {
     "outputs_hidden": true
    },
    "tags": []
   },
   "outputs": [
    {
     "data": {
      "text/html": [
       "<div>\n",
       "<style scoped>\n",
       "    .dataframe tbody tr th:only-of-type {\n",
       "        vertical-align: middle;\n",
       "    }\n",
       "\n",
       "    .dataframe tbody tr th {\n",
       "        vertical-align: top;\n",
       "    }\n",
       "\n",
       "    .dataframe thead th {\n",
       "        text-align: right;\n",
       "    }\n",
       "</style>\n",
       "<table border=\"1\" class=\"dataframe\">\n",
       "  <thead>\n",
       "    <tr style=\"text-align: right;\">\n",
       "      <th></th>\n",
       "      <th>Segment ID</th>\n",
       "      <th>Source Segment</th>\n",
       "      <th>Ref</th>\n",
       "      <th>MT_Y</th>\n",
       "      <th>MT_Z</th>\n",
       "      <th>Ref_rating</th>\n",
       "      <th>MT_Y_rating</th>\n",
       "      <th>MT_Z_rating</th>\n",
       "      <th>Error</th>\n",
       "      <th>MT_Y_TER</th>\n",
       "      <th>MT_Z_TER</th>\n",
       "    </tr>\n",
       "  </thead>\n",
       "  <tbody>\n",
       "    <tr>\n",
       "      <th>0</th>\n",
       "      <td>1</td>\n",
       "      <td>Royal news: How Princess Beatrice \"reacted wit...</td>\n",
       "      <td>영국 왕실 뉴스: 베아트리스 공주, ‘적대적인 왕실 구성원들에게 이렇게 분노 표출해’</td>\n",
       "      <td>왕실 뉴스: 베아트리체 공주가 \"적대하는 가족들에게 분노의 반응을 보였다\"</td>\n",
       "      <td>왕실 뉴스: 베아트리체 공주가 적대적인 가족들에게 분노로 어떻게 반응했는가</td>\n",
       "      <td>2</td>\n",
       "      <td>2</td>\n",
       "      <td>1</td>\n",
       "      <td>F</td>\n",
       "      <td>29.939394</td>\n",
       "      <td>25.757576</td>\n",
       "    </tr>\n",
       "    <tr>\n",
       "      <th>1</th>\n",
       "      <td>2</td>\n",
       "      <td>On Thursday, The Duke and Duchess of York anno...</td>\n",
       "      <td>목요일 영국 요크공 부부는 장녀 베아트리스 공주가 부동산 재벌 남자 친구인 에도아르...</td>\n",
       "      <td>요크 공작과 공작부인은 목요일 장녀 베아트리체 공주가 남자친구인 34세의 부동산 재...</td>\n",
       "      <td>요크 공작부인은 17일 장녀 베아트리체 공주가 남자친구인 34세의 재산 재벌 에도아...</td>\n",
       "      <td>2</td>\n",
       "      <td>1</td>\n",
       "      <td>3</td>\n",
       "      <td>F</td>\n",
       "      <td>43.500000</td>\n",
       "      <td>42.518519</td>\n",
       "    </tr>\n",
       "    <tr>\n",
       "      <th>2</th>\n",
       "      <td>3</td>\n",
       "      <td>The Princess, who is ninth-in-line to the thro...</td>\n",
       "      <td>왕위 계승 서열 9위인 베아트리스 공주는 마펠리 모치와 내년에 결혼할 예정이다.</td>\n",
       "      <td>왕위 계승 서열 9위인 공주는 내년에 마펠리 모찌 씨와 결혼할 예정입니다.</td>\n",
       "      <td>왕위 계승 서열 9위인 공주는 내년에 마펠리 모지 씨와 결혼한다.</td>\n",
       "      <td>1</td>\n",
       "      <td>1</td>\n",
       "      <td>1</td>\n",
       "      <td>F</td>\n",
       "      <td>30.645161</td>\n",
       "      <td>27.703704</td>\n",
       "    </tr>\n",
       "    <tr>\n",
       "      <th>3</th>\n",
       "      <td>4</td>\n",
       "      <td>The couple said in a statement: \"We are both s...</td>\n",
       "      <td>이 둘은 “인생 여정을 함께 시작하게 되어 우리는 둘다 매우 들떠있다.”라고 성명서...</td>\n",
       "      <td>이 커플은 성명에서 \"우리 둘 다 이 인생 모험을 함께 시작하게 되어 매우 기쁩니다...</td>\n",
       "      <td>이 커플은 성명을 통해 \"우리 둘 다 함께 이 인생 모험에 착수하게 되어 매우 흥분된다.</td>\n",
       "      <td>1</td>\n",
       "      <td>2</td>\n",
       "      <td>3</td>\n",
       "      <td>F</td>\n",
       "      <td>44.780488</td>\n",
       "      <td>38.114286</td>\n",
       "    </tr>\n",
       "    <tr>\n",
       "      <th>4</th>\n",
       "      <td>5</td>\n",
       "      <td>We share so many similar interests and values,...</td>\n",
       "      <td>“우리는 관심사와 가치관이 매우 비슷하고, 이 부분이 우리의 미래를 사랑과 행복으로...</td>\n",
       "      <td>\"우리는 많은 비슷한 관심과 가치를 공유하고 있으며, 이것이 사랑과 행복으로 가득 ...</td>\n",
       "      <td>\"우리는 많은 비슷한 관심사와 가치를 공유하고 있으며, 이것이 앞으로 몇 년 동안 ...</td>\n",
       "      <td>1</td>\n",
       "      <td>2</td>\n",
       "      <td>3</td>\n",
       "      <td>F</td>\n",
       "      <td>76.153846</td>\n",
       "      <td>79.062500</td>\n",
       "    </tr>\n",
       "  </tbody>\n",
       "</table>\n",
       "</div>"
      ],
      "text/plain": [
       "   Segment ID                                     Source Segment  \\\n",
       "0           1  Royal news: How Princess Beatrice \"reacted wit...   \n",
       "1           2  On Thursday, The Duke and Duchess of York anno...   \n",
       "2           3  The Princess, who is ninth-in-line to the thro...   \n",
       "3           4  The couple said in a statement: \"We are both s...   \n",
       "4           5  We share so many similar interests and values,...   \n",
       "\n",
       "                                                 Ref  \\\n",
       "0    영국 왕실 뉴스: 베아트리스 공주, ‘적대적인 왕실 구성원들에게 이렇게 분노 표출해’   \n",
       "1  목요일 영국 요크공 부부는 장녀 베아트리스 공주가 부동산 재벌 남자 친구인 에도아르...   \n",
       "2       왕위 계승 서열 9위인 베아트리스 공주는 마펠리 모치와 내년에 결혼할 예정이다.   \n",
       "3  이 둘은 “인생 여정을 함께 시작하게 되어 우리는 둘다 매우 들떠있다.”라고 성명서...   \n",
       "4  “우리는 관심사와 가치관이 매우 비슷하고, 이 부분이 우리의 미래를 사랑과 행복으로...   \n",
       "\n",
       "                                                MT_Y  \\\n",
       "0          왕실 뉴스: 베아트리체 공주가 \"적대하는 가족들에게 분노의 반응을 보였다\"   \n",
       "1  요크 공작과 공작부인은 목요일 장녀 베아트리체 공주가 남자친구인 34세의 부동산 재...   \n",
       "2          왕위 계승 서열 9위인 공주는 내년에 마펠리 모찌 씨와 결혼할 예정입니다.   \n",
       "3  이 커플은 성명에서 \"우리 둘 다 이 인생 모험을 함께 시작하게 되어 매우 기쁩니다...   \n",
       "4  \"우리는 많은 비슷한 관심과 가치를 공유하고 있으며, 이것이 사랑과 행복으로 가득 ...   \n",
       "\n",
       "                                                MT_Z  Ref_rating  MT_Y_rating  \\\n",
       "0          왕실 뉴스: 베아트리체 공주가 적대적인 가족들에게 분노로 어떻게 반응했는가           2            2   \n",
       "1  요크 공작부인은 17일 장녀 베아트리체 공주가 남자친구인 34세의 재산 재벌 에도아...           2            1   \n",
       "2               왕위 계승 서열 9위인 공주는 내년에 마펠리 모지 씨와 결혼한다.           1            1   \n",
       "3  이 커플은 성명을 통해 \"우리 둘 다 함께 이 인생 모험에 착수하게 되어 매우 흥분된다.           1            2   \n",
       "4  \"우리는 많은 비슷한 관심사와 가치를 공유하고 있으며, 이것이 앞으로 몇 년 동안 ...           1            2   \n",
       "\n",
       "   MT_Z_rating Error   MT_Y_TER   MT_Z_TER  \n",
       "0            1     F  29.939394  25.757576  \n",
       "1            3     F  43.500000  42.518519  \n",
       "2            1     F  30.645161  27.703704  \n",
       "3            3     F  44.780488  38.114286  \n",
       "4            3     F  76.153846  79.062500  "
      ]
     },
     "execution_count": 42,
     "metadata": {},
     "output_type": "execute_result"
    }
   ],
   "source": [
    "pd.set_option(\"display.max_row\", 5)\n",
    "before.head()"
   ]
  },
  {
   "cell_type": "code",
   "execution_count": 43,
   "id": "6b014411-cb8f-447f-bc3e-c06aaea130d0",
   "metadata": {},
   "outputs": [
    {
     "data": {
      "text/plain": [
       "TER = 27.70"
      ]
     },
     "execution_count": 43,
     "metadata": {},
     "output_type": "execute_result"
    }
   ],
   "source": [
    "sacrebleu.sentence_ter(bts_z[2], ats_z[2])"
   ]
  },
  {
   "cell_type": "code",
   "execution_count": 55,
   "id": "d9e43c1b-4e43-44cf-bc7f-f3011343a9a7",
   "metadata": {
    "collapsed": true,
    "jupyter": {
     "outputs_hidden": true
    },
    "tags": []
   },
   "outputs": [
    {
     "name": "stdout",
     "output_type": "stream",
     "text": [
      "CPU times: user 5.44 s, sys: 926 µs, total: 5.44 s\n",
      "Wall time: 5.44 s\n"
     ]
    },
    {
     "data": {
      "text/html": [
       "<div>\n",
       "<style scoped>\n",
       "    .dataframe tbody tr th:only-of-type {\n",
       "        vertical-align: middle;\n",
       "    }\n",
       "\n",
       "    .dataframe tbody tr th {\n",
       "        vertical-align: top;\n",
       "    }\n",
       "\n",
       "    .dataframe thead th {\n",
       "        text-align: right;\n",
       "    }\n",
       "</style>\n",
       "<table border=\"1\" class=\"dataframe\">\n",
       "  <thead>\n",
       "    <tr style=\"text-align: right;\">\n",
       "      <th></th>\n",
       "      <th>Segment ID</th>\n",
       "      <th>Source Segment</th>\n",
       "      <th>Ref</th>\n",
       "      <th>MT_Y</th>\n",
       "      <th>MT_Z</th>\n",
       "      <th>Ref_rating</th>\n",
       "      <th>MT_Y_rating</th>\n",
       "      <th>MT_Z_rating</th>\n",
       "      <th>Error</th>\n",
       "      <th>MT_Y_TER</th>\n",
       "      <th>MT_Z_TER</th>\n",
       "      <th>MT_Y_tokens</th>\n",
       "      <th>MT_Z_tokens</th>\n",
       "    </tr>\n",
       "  </thead>\n",
       "  <tbody>\n",
       "    <tr>\n",
       "      <th>0</th>\n",
       "      <td>1</td>\n",
       "      <td>Royal news: How Princess Beatrice \"reacted with fury at hostile family members\"</td>\n",
       "      <td>영국 왕실 뉴스: 베아트리스 공주, ‘적대적인 왕실 구성원들에게 이렇게 분노 표출해’</td>\n",
       "      <td>왕실 뉴스: 베아트리체 공주가 \"적대하는 가족들에게 분노의 반응을 보였다\"</td>\n",
       "      <td>왕실 뉴스: 베아트리체 공주가 적대적인 가족들에게 분노로 어떻게 반응했는가</td>\n",
       "      <td>2</td>\n",
       "      <td>2</td>\n",
       "      <td>1</td>\n",
       "      <td>F</td>\n",
       "      <td>29.939394</td>\n",
       "      <td>25.757576</td>\n",
       "      <td>왕실 뉴스 : 베아트리체 공주 가 적대 적 인 가족 들 에게 분노 로 어떻게 반응 했 는가</td>\n",
       "      <td>왕실 뉴스 : 베아트리체 공주 가 \" 적대 하 는 가족 들 에게 분노 의 반응 을 보였 다 \"</td>\n",
       "    </tr>\n",
       "  </tbody>\n",
       "</table>\n",
       "</div>"
      ],
      "text/plain": [
       "   Segment ID  \\\n",
       "0           1   \n",
       "\n",
       "                                                                    Source Segment  \\\n",
       "0  Royal news: How Princess Beatrice \"reacted with fury at hostile family members\"   \n",
       "\n",
       "                                               Ref  \\\n",
       "0  영국 왕실 뉴스: 베아트리스 공주, ‘적대적인 왕실 구성원들에게 이렇게 분노 표출해’   \n",
       "\n",
       "                                        MT_Y  \\\n",
       "0  왕실 뉴스: 베아트리체 공주가 \"적대하는 가족들에게 분노의 반응을 보였다\"   \n",
       "\n",
       "                                        MT_Z  Ref_rating  MT_Y_rating  \\\n",
       "0  왕실 뉴스: 베아트리체 공주가 적대적인 가족들에게 분노로 어떻게 반응했는가           2            2   \n",
       "\n",
       "   MT_Z_rating Error   MT_Y_TER   MT_Z_TER  \\\n",
       "0            1     F  29.939394  25.757576   \n",
       "\n",
       "                                          MT_Y_tokens  \\\n",
       "0  왕실 뉴스 : 베아트리체 공주 가 적대 적 인 가족 들 에게 분노 로 어떻게 반응 했 는가   \n",
       "\n",
       "                                            MT_Z_tokens  \n",
       "0  왕실 뉴스 : 베아트리체 공주 가 \" 적대 하 는 가족 들 에게 분노 의 반응 을 보였 다 \"  "
      ]
     },
     "execution_count": 55,
     "metadata": {},
     "output_type": "execute_result"
    }
   ],
   "source": [
    "%%time\n",
    "bts_z = before.MT_Z.tolist()\n",
    "ats_z = after.MT_Z.tolist()\n",
    "\n",
    "bts_z = [' '.join(mecab(s)).replace(\"▃\", \"\").replace(\"  \", \" \") for s in bts_z]\n",
    "ats_z = [' '.join(mecab(s)).replace(\"▃\", \"\").replace(\"  \", \" \") for s in ats_z]\n",
    "\n",
    "before[\"MT_Y_tokens\"] = bts_z\n",
    "after[\"MT_Z_tokens\"] = ats_z\n",
    "\n",
    "ter=[]\n",
    "for bts, ats in zip(bts_z, ats_z):\n",
    "    score = sacrebleu.sentence_ter(bts, ats)\n",
    "    ter.append(score.score)\n",
    "    \n",
    "before[\"MT_Z_TER\"] = ter\n",
    "before.head(1)"
   ]
  },
  {
   "cell_type": "code",
   "execution_count": 45,
   "id": "c346415a-8511-47a6-87b1-e8bda8037abd",
   "metadata": {},
   "outputs": [
    {
     "name": "stdout",
     "output_type": "stream",
     "text": [
      "Y=  123.15789473684211\n",
      "Z=  161.5\n"
     ]
    }
   ],
   "source": [
    "df = before\n",
    "print(\"Y= \", np.max(df[\"MT_Y_TER\"].tolist()))\n",
    "print(\"Z= \", np.max(df[\"MT_Z_TER\"].tolist()))"
   ]
  },
  {
   "cell_type": "code",
   "execution_count": 46,
   "id": "13b596c2-e337-4a29-b104-567ec581a964",
   "metadata": {},
   "outputs": [
    {
     "data": {
      "text/plain": [
       "13"
      ]
     },
     "execution_count": 46,
     "metadata": {},
     "output_type": "execute_result"
    }
   ],
   "source": [
    "len(df[(df[\"MT_Y_TER\"] >= 100) | (df[\"MT_Z_TER\"] >= 100)])"
   ]
  },
  {
   "cell_type": "code",
   "execution_count": 48,
   "id": "525c5e25-6551-4063-ba29-0b0142cfddcd",
   "metadata": {
    "collapsed": true,
    "jupyter": {
     "outputs_hidden": true
    },
    "tags": []
   },
   "outputs": [
    {
     "data": {
      "text/html": [
       "<div>\n",
       "<style scoped>\n",
       "    .dataframe tbody tr th:only-of-type {\n",
       "        vertical-align: middle;\n",
       "    }\n",
       "\n",
       "    .dataframe tbody tr th {\n",
       "        vertical-align: top;\n",
       "    }\n",
       "\n",
       "    .dataframe thead th {\n",
       "        text-align: right;\n",
       "    }\n",
       "</style>\n",
       "<table border=\"1\" class=\"dataframe\">\n",
       "  <thead>\n",
       "    <tr style=\"text-align: right;\">\n",
       "      <th></th>\n",
       "      <th>Segment ID</th>\n",
       "      <th>Source Segment</th>\n",
       "      <th>Ref</th>\n",
       "      <th>MT_Y</th>\n",
       "      <th>MT_Z</th>\n",
       "      <th>Ref_rating</th>\n",
       "      <th>MT_Y_rating</th>\n",
       "      <th>MT_Z_rating</th>\n",
       "      <th>Error</th>\n",
       "      <th>MT_Y_TER</th>\n",
       "      <th>MT_Z_TER</th>\n",
       "    </tr>\n",
       "  </thead>\n",
       "  <tbody>\n",
       "    <tr>\n",
       "      <th>42</th>\n",
       "      <td>43</td>\n",
       "      <td>It's one of the first commercial uses of inves...</td>\n",
       "      <td>HSBC 고객네트워크뱅킹 부서의 스튜어트 나이비슨 글로벌사업 그룹장은 “이번이 금융...</td>\n",
       "      <td>HSBC의 글로벌 고객 네트워크 뱅킹 책임자인 스튜어트 니비슨은 \"금융 범죄 예방에...</td>\n",
       "      <td>스튜어트 니비슨 HSBC 글로벌 고객 네트워크 뱅킹 대표는 \"금융범죄 예방에 대한 ...</td>\n",
       "      <td>1</td>\n",
       "      <td>2</td>\n",
       "      <td>3</td>\n",
       "      <td>F</td>\n",
       "      <td>103.009524</td>\n",
       "      <td>91.235955</td>\n",
       "    </tr>\n",
       "    <tr>\n",
       "      <th>128</th>\n",
       "      <td>129</td>\n",
       "      <td>These awards are a small attempt by a group of...</td>\n",
       "      <td>“이 상은 자신의 주장을 펼침에 있어 품위와 예의를 갖추는 정치인, 당파를 넘어 모...</td>\n",
       "      <td>\"이러한 상들은 공직생활에 종사하는 사람들의 작은 시도입니다. 정치적 설득이 전혀 ...</td>\n",
       "      <td>\"이 상들은 다른 정치적 설득력이 없는 공공 생활에서 한 무리의 사람들이 품위와 예...</td>\n",
       "      <td>1</td>\n",
       "      <td>2</td>\n",
       "      <td>3</td>\n",
       "      <td>F</td>\n",
       "      <td>123.157895</td>\n",
       "      <td>111.622642</td>\n",
       "    </tr>\n",
       "    <tr>\n",
       "      <th>258</th>\n",
       "      <td>259</td>\n",
       "      <td>The Centres for Disease Control and Prevention...</td>\n",
       "      <td>미국 질병통제예방센터에서는 현재 100여 명의 담당자들이 정체불명의 이 질환의 원인...</td>\n",
       "      <td>질병통제예방센터(CDC)는 100명 이상의 관리들이 이 미스터리 질병의 원인을 조사...</td>\n",
       "      <td>질병통제예방센터(CDC)는 미스터리 질병의 원인을 조사하는 100명 이상의 관리를 ...</td>\n",
       "      <td>1</td>\n",
       "      <td>2</td>\n",
       "      <td>3</td>\n",
       "      <td>F</td>\n",
       "      <td>103.384615</td>\n",
       "      <td>99.360825</td>\n",
       "    </tr>\n",
       "    <tr>\n",
       "      <th>279</th>\n",
       "      <td>280</td>\n",
       "      <td>Citing a U.N.-backed reportreleased last year,...</td>\n",
       "      <td>지난해 공개된 UN 후원 보고서에 따르면, 시위자들은 지구 온도가 2.7도 이상 상...</td>\n",
       "      <td>시위대는 지난해 유엔이 지지한 보고서를 인용, 지구온도가 2.7도 이상 상승하는 것...</td>\n",
       "      <td>시위대는 지난해 발표된 유엔의 지원을 받는 보고서를 인용, 지구 기온이 2.7도 이...</td>\n",
       "      <td>1</td>\n",
       "      <td>1</td>\n",
       "      <td>2</td>\n",
       "      <td>T</td>\n",
       "      <td>102.808989</td>\n",
       "      <td>112.000000</td>\n",
       "    </tr>\n",
       "    <tr>\n",
       "      <th>293</th>\n",
       "      <td>294</td>\n",
       "      <td>While we are trying to establish a motive for ...</td>\n",
       "      <td>“사건의 범행 동기를 찾으려고 노력 중이지만, 우리는 이번 사건을 표적 범죄로 보고...</td>\n",
       "      <td>그는 \"우리는 이번 사건의 동기를 밝히기 위해 노력하고 있지만 이번 사건이 목표가 ...</td>\n",
       "      <td>\"우리가 일어난 일에 대한 동기를 확립하려고 노력하는 동안, 우리는 그 사건이 표적...</td>\n",
       "      <td>1</td>\n",
       "      <td>2</td>\n",
       "      <td>3</td>\n",
       "      <td>T</td>\n",
       "      <td>92.162162</td>\n",
       "      <td>103.571429</td>\n",
       "    </tr>\n",
       "    <tr>\n",
       "      <th>316</th>\n",
       "      <td>317</td>\n",
       "      <td>Grocery store workers at the Fred Meyer superm...</td>\n",
       "      <td>대형마트 체인인 프레드 메이어의 직원들도 고용주를 상대로 캠페인을 벌이고 있으며, ...</td>\n",
       "      <td>프레드 마이어 슈퍼마켓 체인의 식료품점 노동자들은 고용주에 대한 반대 운동을 강화하...</td>\n",
       "      <td>프레드 마이어 슈퍼마켓 체인의 식료품점 근로자들은 고용주에 대한 캠페인을 강화하고 ...</td>\n",
       "      <td>2</td>\n",
       "      <td>1</td>\n",
       "      <td>2</td>\n",
       "      <td>F</td>\n",
       "      <td>102.389381</td>\n",
       "      <td>116.325203</td>\n",
       "    </tr>\n",
       "    <tr>\n",
       "      <th>317</th>\n",
       "      <td>318</td>\n",
       "      <td>In the healthcare sector, the 4,500 members of...</td>\n",
       "      <td>의료계에서는 카이저 퍼머넌트의 노조인 서비스종업원 국제연맹49 지부의 회원 4,50...</td>\n",
       "      <td>의료 분야에서는, 카이저 퍼머넌트의 4,500명의 국제노동조합(ISU) 회원들이 1...</td>\n",
       "      <td>의료 분야에서는 카이저 퍼머넌트의 4,500명의 서비스 직원 국제 연합 지역 49명...</td>\n",
       "      <td>1</td>\n",
       "      <td>2</td>\n",
       "      <td>2</td>\n",
       "      <td>F</td>\n",
       "      <td>89.720430</td>\n",
       "      <td>109.349057</td>\n",
       "    </tr>\n",
       "    <tr>\n",
       "      <th>331</th>\n",
       "      <td>332</td>\n",
       "      <td>Mother-of-two Naadiya Moosajee, a South Africa...</td>\n",
       "      <td>남아공 출신 공학자이자 기업가이며 위민 인 엔지니어링의 공동설립자인 두 아이의 엄마...</td>\n",
       "      <td>남아프리카의 엔지니어이자 사회적 기업가이자 여성 공학 분야의 공동 설립자인 Naad...</td>\n",
       "      <td>남아프리카의 엔지니어, 사회적 기업가, 공학 분야의 공동 설립자인 두 아이의 어머니...</td>\n",
       "      <td>1</td>\n",
       "      <td>2</td>\n",
       "      <td>2</td>\n",
       "      <td>T</td>\n",
       "      <td>115.676923</td>\n",
       "      <td>120.225564</td>\n",
       "    </tr>\n",
       "    <tr>\n",
       "      <th>333</th>\n",
       "      <td>334</td>\n",
       "      <td>She added that having Meghan present 'didn't f...</td>\n",
       "      <td>또한 그녀는 메건의 존재가 “위계적으로 느끼지 않았다”, 왜냐하면 여기는 “여성들이...</td>\n",
       "      <td>그녀는 메건이 참석하는 것이 '여성들이 함께 모여서 우리가 가진 투쟁과 앞으로 나아...</td>\n",
       "      <td>그녀는 메건이 '여성들이 함께 모여 우리가 가진 투쟁과 앞으로 나아가고 성장하고 사...</td>\n",
       "      <td>2</td>\n",
       "      <td>1</td>\n",
       "      <td>3</td>\n",
       "      <td>T</td>\n",
       "      <td>106.179775</td>\n",
       "      <td>93.333333</td>\n",
       "    </tr>\n",
       "    <tr>\n",
       "      <th>335</th>\n",
       "      <td>336</td>\n",
       "      <td>'She talked about being a mother and having du...</td>\n",
       "      <td>“메건은 엄마가 되는 것, 공작 부인으로서의 의무, 자신의 가슴이 원하는 일을 하는...</td>\n",
       "      <td>'그녀는 엄마가 되어 공작부인으로서의 의무를 갖고 그녀의 마음이 원하는 것을 성취하...</td>\n",
       "      <td>'그녀는 엄마가 되고 공작부인으로서의 의무를 가지고 그녀의 마음이 원하는 것을 성취...</td>\n",
       "      <td>1</td>\n",
       "      <td>2</td>\n",
       "      <td>1</td>\n",
       "      <td>T</td>\n",
       "      <td>93.231707</td>\n",
       "      <td>101.162791</td>\n",
       "    </tr>\n",
       "    <tr>\n",
       "      <th>364</th>\n",
       "      <td>365</td>\n",
       "      <td>The spokesperson said: \"It is now possible - i...</td>\n",
       "      <td>대변인은 다음과 같이 말했다. \"이제는 (정치적 의지만 있다면) 정당들이 힘을 함쳐...</td>\n",
       "      <td>대변인은 \"정치적 의지가 있다면, 연장을 위한 서신이 보리스 존슨과 그의 측근들에게...</td>\n",
       "      <td>대변인은 \"정치적 의지가 있다면 정당들이 함께 모여 연장을 확보하기 위한 서한이 보...</td>\n",
       "      <td>3</td>\n",
       "      <td>1</td>\n",
       "      <td>2</td>\n",
       "      <td>T</td>\n",
       "      <td>112.323529</td>\n",
       "      <td>161.500000</td>\n",
       "    </tr>\n",
       "    <tr>\n",
       "      <th>390</th>\n",
       "      <td>391</td>\n",
       "      <td>Tees Valley mayor Ben Houchen said the report ...</td>\n",
       "      <td>벤 허우첸 티즈 밸리 시장은 이 보고서가 \"국내 모든 경찰이 받은 조사를 통틀어 최...</td>\n",
       "      <td>벤 후첸 티즈밸리 시장은 이 보고서가 \"국내 경찰력에 대한 사상 최악의 결과\"를 묘...</td>\n",
       "      <td>벤 후첸 티즈 밸리 시장은 이 보고서가 \"이 나라의 어떤 경찰력에도 최악의 조사 결...</td>\n",
       "      <td>1</td>\n",
       "      <td>3</td>\n",
       "      <td>2</td>\n",
       "      <td>F</td>\n",
       "      <td>77.680556</td>\n",
       "      <td>102.808989</td>\n",
       "    </tr>\n",
       "    <tr>\n",
       "      <th>410</th>\n",
       "      <td>411</td>\n",
       "      <td>Kit Malthouse, minister for crime, policing an...</td>\n",
       "      <td>킷 말트하우스 범죄·경찰·소방부 장관은 \"이 같은 문제를 해결하기 위한 경찰서장의 ...</td>\n",
       "      <td>킷 맬하우스 경찰청장은 \"경찰에 대한 국민의 신뢰에 투명성과 책임이 매우 중요하다\"...</td>\n",
       "      <td>키트 몰트하우스 범죄, 치안, 화재 담당 장관은 \"이러한 실패를 해결하기 위한 경감...</td>\n",
       "      <td>1</td>\n",
       "      <td>3</td>\n",
       "      <td>2</td>\n",
       "      <td>T</td>\n",
       "      <td>69.229508</td>\n",
       "      <td>100.549451</td>\n",
       "    </tr>\n",
       "  </tbody>\n",
       "</table>\n",
       "</div>"
      ],
      "text/plain": [
       "     Segment ID                                     Source Segment  \\\n",
       "42           43  It's one of the first commercial uses of inves...   \n",
       "128         129  These awards are a small attempt by a group of...   \n",
       "258         259  The Centres for Disease Control and Prevention...   \n",
       "279         280  Citing a U.N.-backed reportreleased last year,...   \n",
       "293         294  While we are trying to establish a motive for ...   \n",
       "316         317  Grocery store workers at the Fred Meyer superm...   \n",
       "317         318  In the healthcare sector, the 4,500 members of...   \n",
       "331         332  Mother-of-two Naadiya Moosajee, a South Africa...   \n",
       "333         334  She added that having Meghan present 'didn't f...   \n",
       "335         336  'She talked about being a mother and having du...   \n",
       "364         365  The spokesperson said: \"It is now possible - i...   \n",
       "390         391  Tees Valley mayor Ben Houchen said the report ...   \n",
       "410         411  Kit Malthouse, minister for crime, policing an...   \n",
       "\n",
       "                                                   Ref  \\\n",
       "42   HSBC 고객네트워크뱅킹 부서의 스튜어트 나이비슨 글로벌사업 그룹장은 “이번이 금융...   \n",
       "128  “이 상은 자신의 주장을 펼침에 있어 품위와 예의를 갖추는 정치인, 당파를 넘어 모...   \n",
       "258  미국 질병통제예방센터에서는 현재 100여 명의 담당자들이 정체불명의 이 질환의 원인...   \n",
       "279  지난해 공개된 UN 후원 보고서에 따르면, 시위자들은 지구 온도가 2.7도 이상 상...   \n",
       "293  “사건의 범행 동기를 찾으려고 노력 중이지만, 우리는 이번 사건을 표적 범죄로 보고...   \n",
       "316  대형마트 체인인 프레드 메이어의 직원들도 고용주를 상대로 캠페인을 벌이고 있으며, ...   \n",
       "317  의료계에서는 카이저 퍼머넌트의 노조인 서비스종업원 국제연맹49 지부의 회원 4,50...   \n",
       "331  남아공 출신 공학자이자 기업가이며 위민 인 엔지니어링의 공동설립자인 두 아이의 엄마...   \n",
       "333  또한 그녀는 메건의 존재가 “위계적으로 느끼지 않았다”, 왜냐하면 여기는 “여성들이...   \n",
       "335  “메건은 엄마가 되는 것, 공작 부인으로서의 의무, 자신의 가슴이 원하는 일을 하는...   \n",
       "364  대변인은 다음과 같이 말했다. \"이제는 (정치적 의지만 있다면) 정당들이 힘을 함쳐...   \n",
       "390  벤 허우첸 티즈 밸리 시장은 이 보고서가 \"국내 모든 경찰이 받은 조사를 통틀어 최...   \n",
       "410  킷 말트하우스 범죄·경찰·소방부 장관은 \"이 같은 문제를 해결하기 위한 경찰서장의 ...   \n",
       "\n",
       "                                                  MT_Y  \\\n",
       "42   HSBC의 글로벌 고객 네트워크 뱅킹 책임자인 스튜어트 니비슨은 \"금융 범죄 예방에...   \n",
       "128  \"이러한 상들은 공직생활에 종사하는 사람들의 작은 시도입니다. 정치적 설득이 전혀 ...   \n",
       "258  질병통제예방센터(CDC)는 100명 이상의 관리들이 이 미스터리 질병의 원인을 조사...   \n",
       "279  시위대는 지난해 유엔이 지지한 보고서를 인용, 지구온도가 2.7도 이상 상승하는 것...   \n",
       "293  그는 \"우리는 이번 사건의 동기를 밝히기 위해 노력하고 있지만 이번 사건이 목표가 ...   \n",
       "316  프레드 마이어 슈퍼마켓 체인의 식료품점 노동자들은 고용주에 대한 반대 운동을 강화하...   \n",
       "317  의료 분야에서는, 카이저 퍼머넌트의 4,500명의 국제노동조합(ISU) 회원들이 1...   \n",
       "331  남아프리카의 엔지니어이자 사회적 기업가이자 여성 공학 분야의 공동 설립자인 Naad...   \n",
       "333  그녀는 메건이 참석하는 것이 '여성들이 함께 모여서 우리가 가진 투쟁과 앞으로 나아...   \n",
       "335  '그녀는 엄마가 되어 공작부인으로서의 의무를 갖고 그녀의 마음이 원하는 것을 성취하...   \n",
       "364  대변인은 \"정치적 의지가 있다면, 연장을 위한 서신이 보리스 존슨과 그의 측근들에게...   \n",
       "390  벤 후첸 티즈밸리 시장은 이 보고서가 \"국내 경찰력에 대한 사상 최악의 결과\"를 묘...   \n",
       "410  킷 맬하우스 경찰청장은 \"경찰에 대한 국민의 신뢰에 투명성과 책임이 매우 중요하다\"...   \n",
       "\n",
       "                                                  MT_Z  Ref_rating  \\\n",
       "42   스튜어트 니비슨 HSBC 글로벌 고객 네트워크 뱅킹 대표는 \"금융범죄 예방에 대한 ...           1   \n",
       "128  \"이 상들은 다른 정치적 설득력이 없는 공공 생활에서 한 무리의 사람들이 품위와 예...           1   \n",
       "258  질병통제예방센터(CDC)는 미스터리 질병의 원인을 조사하는 100명 이상의 관리를 ...           1   \n",
       "279  시위대는 지난해 발표된 유엔의 지원을 받는 보고서를 인용, 지구 기온이 2.7도 이...           1   \n",
       "293  \"우리가 일어난 일에 대한 동기를 확립하려고 노력하는 동안, 우리는 그 사건이 표적...           1   \n",
       "316  프레드 마이어 슈퍼마켓 체인의 식료품점 근로자들은 고용주에 대한 캠페인을 강화하고 ...           2   \n",
       "317  의료 분야에서는 카이저 퍼머넌트의 4,500명의 서비스 직원 국제 연합 지역 49명...           1   \n",
       "331  남아프리카의 엔지니어, 사회적 기업가, 공학 분야의 공동 설립자인 두 아이의 어머니...           1   \n",
       "333  그녀는 메건이 '여성들이 함께 모여 우리가 가진 투쟁과 앞으로 나아가고 성장하고 사...           2   \n",
       "335  '그녀는 엄마가 되고 공작부인으로서의 의무를 가지고 그녀의 마음이 원하는 것을 성취...           1   \n",
       "364  대변인은 \"정치적 의지가 있다면 정당들이 함께 모여 연장을 확보하기 위한 서한이 보...           3   \n",
       "390  벤 후첸 티즈 밸리 시장은 이 보고서가 \"이 나라의 어떤 경찰력에도 최악의 조사 결...           1   \n",
       "410  키트 몰트하우스 범죄, 치안, 화재 담당 장관은 \"이러한 실패를 해결하기 위한 경감...           1   \n",
       "\n",
       "     MT_Y_rating  MT_Z_rating Error    MT_Y_TER    MT_Z_TER  \n",
       "42             2            3     F  103.009524   91.235955  \n",
       "128            2            3     F  123.157895  111.622642  \n",
       "258            2            3     F  103.384615   99.360825  \n",
       "279            1            2     T  102.808989  112.000000  \n",
       "293            2            3     T   92.162162  103.571429  \n",
       "316            1            2     F  102.389381  116.325203  \n",
       "317            2            2     F   89.720430  109.349057  \n",
       "331            2            2     T  115.676923  120.225564  \n",
       "333            1            3     T  106.179775   93.333333  \n",
       "335            2            1     T   93.231707  101.162791  \n",
       "364            1            2     T  112.323529  161.500000  \n",
       "390            3            2     F   77.680556  102.808989  \n",
       "410            3            2     T   69.229508  100.549451  "
      ]
     },
     "execution_count": 48,
     "metadata": {},
     "output_type": "execute_result"
    }
   ],
   "source": [
    "pd.set_option(\"display.max_row\", None)\n",
    "df[(df[\"MT_Y_TER\"] >= 100) | (df[\"MT_Z_TER\"] >= 100)]"
   ]
  },
  {
   "cell_type": "code",
   "execution_count": 50,
   "id": "155be551-8e1b-4440-939e-dbcdc898df95",
   "metadata": {},
   "outputs": [],
   "source": [
    "df_small = df[(df[\"MT_Y_TER\"] >= 100) | (df[\"MT_Z_TER\"] >= 100)]"
   ]
  },
  {
   "cell_type": "code",
   "execution_count": 60,
   "id": "c202c38e-6947-4d7e-a3d5-f6162353c9d0",
   "metadata": {},
   "outputs": [
    {
     "data": {
      "text/plain": [
       "[43, 129, 259, 280, 294, 317, 318, 332, 334, 336, 365, 391, 411]"
      ]
     },
     "execution_count": 60,
     "metadata": {},
     "output_type": "execute_result"
    }
   ],
   "source": [
    "over100 = df_small[\"Segment ID\"].tolist()"
   ]
  },
  {
   "cell_type": "code",
   "execution_count": 78,
   "id": "7d222cac-641b-4722-9dc6-9b18916b80ad",
   "metadata": {},
   "outputs": [
    {
     "name": "stdout",
     "output_type": "stream",
     "text": [
      "43 [103.00952380952381] 0.0\n",
      "129 [123.15789473684211] 0.2903225806451613\n",
      "259 [103.38461538461539] 0.0\n",
      "280 [102.80898876404494] 0.0\n",
      "294 [92.16216216216216] 0.29411764705882354\n",
      "317 [102.38938053097345] 0.0\n",
      "318 [89.72043010752688] 0.0\n",
      "332 [115.67692307692306] 0.14285714285714285\n",
      "334 [106.17977528089887] 0.11290322580645161\n",
      "336 [93.23170731707317] 0.25862068965517243\n",
      "365 [112.32352941176471] 0.22857142857142856\n",
      "391 [77.68055555555556] 0.0\n",
      "411 [69.22950819672131] 0.046511627906976744\n"
     ]
    }
   ],
   "source": [
    "result = []\n",
    "for ids in over100:\n",
    "    bts = before[before[\"Segment ID\"]==ids].MT_Y_tokens.tolist()\n",
    "    ats = after[after[\"Segment ID\"]==ids].MT_Y_tokens.tolist()\n",
    "    \n",
    "    score = sacrebleu.sentence_ter(bts, ats).score\n",
    "    result.append(score)\n",
    "    \n",
    "    print(ids, before[before[\"Segment ID\"]==ids].MT_Y_TER.tolist(), score)\n",
    "    "
   ]
  },
  {
   "cell_type": "code",
   "execution_count": 79,
   "id": "ecdbe64a-48ab-48a8-88fc-0c732538508a",
   "metadata": {},
   "outputs": [
    {
     "name": "stdout",
     "output_type": "stream",
     "text": [
      "43 [91.23595505617978] 0.543859649122807\n",
      "129 [111.62264150943396] 0.4057971014492754\n",
      "259 [99.36082474226804] 0.3870967741935484\n",
      "280 [112.0] 0.34285714285714286\n",
      "294 [103.57142857142857] 0.6129032258064516\n",
      "317 [116.32520325203252] 0.28378378378378377\n",
      "318 [109.34905660377358] 0.4411764705882353\n",
      "332 [120.22556390977444] 0.4794520547945205\n",
      "334 [93.33333333333334] 0.3684210526315789\n",
      "336 [101.16279069767442] 0.3\n",
      "365 [161.5] 0.5858585858585859\n",
      "391 [102.80898876404494] 0.5\n",
      "411 [100.54945054945054] 0.7\n"
     ]
    }
   ],
   "source": [
    "result = []\n",
    "for ids in over100:\n",
    "    bts = before[before[\"Segment ID\"]==ids].MT_Z_tokens.tolist()\n",
    "    ats = after[after[\"Segment ID\"]==ids].MT_Z_tokens.tolist()\n",
    "    \n",
    "    score = sacrebleu.sentence_ter(bts, ats).score\n",
    "    result.append(score)\n",
    "    \n",
    "    print(ids, before[before[\"Segment ID\"]==ids].MT_Z_TER.tolist(), score)\n",
    "    "
   ]
  },
  {
   "cell_type": "code",
   "execution_count": 171,
   "id": "a104114b-8057-4fbf-805b-97306dd6205b",
   "metadata": {},
   "outputs": [],
   "source": [
    "#df.to_csv(\"./data_out/_before+ter.csv\", sep=\"\\t\", encoding=\"utf-8\")"
   ]
  },
  {
   "cell_type": "code",
   "execution_count": 76,
   "id": "5a9bb5c0-8d7d-4f60-a95e-f001155da0d2",
   "metadata": {},
   "outputs": [
    {
     "name": "stdout",
     "output_type": "stream",
     "text": [
      "0.0\n"
     ]
    }
   ],
   "source": [
    "bts = before[before[\"Segment ID\"]==43].MT_Y_tokens.tolist()\n",
    "ats = after[after[\"Segment ID\"]==43].MT_Y_tokens.tolist()\n",
    "\n",
    "score = sacrebleu.sentence_ter(bts, ats).score\n",
    "print(score)"
   ]
  },
  {
   "cell_type": "code",
   "execution_count": 49,
   "id": "557d7a8b-58c1-4018-abe9-8a631dadf5f3",
   "metadata": {},
   "outputs": [
    {
     "data": {
      "text/html": [
       "<div>\n",
       "<style scoped>\n",
       "    .dataframe tbody tr th:only-of-type {\n",
       "        vertical-align: middle;\n",
       "    }\n",
       "\n",
       "    .dataframe tbody tr th {\n",
       "        vertical-align: top;\n",
       "    }\n",
       "\n",
       "    .dataframe thead th {\n",
       "        text-align: right;\n",
       "    }\n",
       "</style>\n",
       "<table border=\"1\" class=\"dataframe\">\n",
       "  <thead>\n",
       "    <tr style=\"text-align: right;\">\n",
       "      <th></th>\n",
       "      <th>Segment ID</th>\n",
       "      <th>Source Segment</th>\n",
       "      <th>Ref</th>\n",
       "      <th>MT_Y</th>\n",
       "      <th>MT_Z</th>\n",
       "      <th>Ref_rating</th>\n",
       "      <th>MT_Y_rating</th>\n",
       "      <th>MT_Z_rating</th>\n",
       "      <th>Error</th>\n",
       "      <th>MT_Y_TER</th>\n",
       "      <th>MT_Z_TER</th>\n",
       "    </tr>\n",
       "  </thead>\n",
       "  <tbody>\n",
       "    <tr>\n",
       "      <th>331</th>\n",
       "      <td>332</td>\n",
       "      <td>Mother-of-two Naadiya Moosajee, a South African engineer, social entrepreneur and co-founder of Women in Engineering, revealed: 'We acknowledged the importance of not just education for girls but being role models for boys - that we are women who are influential and who boys can look up to as well,' People reports.</td>\n",
       "      <td>남아공 출신 공학자이자 기업가이며 위민 인 엔지니어링의 공동설립자인 두 아이의 엄마 나디야 무사지는 다음과 같이 말했다. “우리는 소녀들을 교육시키는 것뿐만 아니라 소년들의 롤모델이 되는 것도 중요하다는 걸 안다. 왜냐하면 우리는 영향력 있는 여성들이고, 소년들이 존경할 수 있는 사람들이기 때문이다.”라고 피플지(People)는 보도했다.</td>\n",
       "      <td>남아프리카의 엔지니어이자 사회적 기업가이자 여성 공학 분야의 공동 설립자인 Naadiya Mosajee는 '우리는 여자아이들을 위한 교육뿐만 아니라 남자아이들을 위한 역할 모델이 되는 것의 중요성을 인정했습니다 - 우리는 영향력 있고 남자아이들도 존경할 수 있는 여자입니다'라고 밝혔다.</td>\n",
       "      <td>남아프리카의 엔지니어, 사회적 기업가, 공학 분야의 공동 설립자인 두 아이의 어머니 나디야 무사지는 '우리는 소녀들을 위한 교육뿐만 아니라 소년들을 위한 역할 모델이 되는 것의 중요성을 인정했다. 우리는 영향력 있고 소년들이 존경할 수 있는 여성이다'라고 사람들은 보고한다.</td>\n",
       "      <td>1</td>\n",
       "      <td>2</td>\n",
       "      <td>2</td>\n",
       "      <td>T</td>\n",
       "      <td>115.676923</td>\n",
       "      <td>120.225564</td>\n",
       "    </tr>\n",
       "  </tbody>\n",
       "</table>\n",
       "</div>"
      ],
      "text/plain": [
       "     Segment ID  \\\n",
       "331         332   \n",
       "\n",
       "                                                                                                                                                                                                                                                                                                                   Source Segment  \\\n",
       "331  Mother-of-two Naadiya Moosajee, a South African engineer, social entrepreneur and co-founder of Women in Engineering, revealed: 'We acknowledged the importance of not just education for girls but being role models for boys - that we are women who are influential and who boys can look up to as well,' People reports.   \n",
       "\n",
       "                                                                                                                                                                                                Ref  \\\n",
       "331  남아공 출신 공학자이자 기업가이며 위민 인 엔지니어링의 공동설립자인 두 아이의 엄마 나디야 무사지는 다음과 같이 말했다. “우리는 소녀들을 교육시키는 것뿐만 아니라 소년들의 롤모델이 되는 것도 중요하다는 걸 안다. 왜냐하면 우리는 영향력 있는 여성들이고, 소년들이 존경할 수 있는 사람들이기 때문이다.”라고 피플지(People)는 보도했다.   \n",
       "\n",
       "                                                                                                                                                                 MT_Y  \\\n",
       "331  남아프리카의 엔지니어이자 사회적 기업가이자 여성 공학 분야의 공동 설립자인 Naadiya Mosajee는 '우리는 여자아이들을 위한 교육뿐만 아니라 남자아이들을 위한 역할 모델이 되는 것의 중요성을 인정했습니다 - 우리는 영향력 있고 남자아이들도 존경할 수 있는 여자입니다'라고 밝혔다.   \n",
       "\n",
       "                                                                                                                                                          MT_Z  \\\n",
       "331  남아프리카의 엔지니어, 사회적 기업가, 공학 분야의 공동 설립자인 두 아이의 어머니 나디야 무사지는 '우리는 소녀들을 위한 교육뿐만 아니라 소년들을 위한 역할 모델이 되는 것의 중요성을 인정했다. 우리는 영향력 있고 소년들이 존경할 수 있는 여성이다'라고 사람들은 보고한다.   \n",
       "\n",
       "     Ref_rating  MT_Y_rating  MT_Z_rating Error    MT_Y_TER    MT_Z_TER  \n",
       "331           1            2            2     T  115.676923  120.225564  "
      ]
     },
     "execution_count": 49,
     "metadata": {},
     "output_type": "execute_result"
    }
   ],
   "source": [
    "pd.set_option(\"display.max_colwidth\", None)\n",
    "before[before[\"Segment ID\"] == 332]"
   ]
  },
  {
   "cell_type": "code",
   "execution_count": 182,
   "id": "79272653-7099-4fb3-a395-1e2c99da1b57",
   "metadata": {},
   "outputs": [
    {
     "data": {
      "text/html": [
       "<div>\n",
       "<style scoped>\n",
       "    .dataframe tbody tr th:only-of-type {\n",
       "        vertical-align: middle;\n",
       "    }\n",
       "\n",
       "    .dataframe tbody tr th {\n",
       "        vertical-align: top;\n",
       "    }\n",
       "\n",
       "    .dataframe thead th {\n",
       "        text-align: right;\n",
       "    }\n",
       "</style>\n",
       "<table border=\"1\" class=\"dataframe\">\n",
       "  <thead>\n",
       "    <tr style=\"text-align: right;\">\n",
       "      <th></th>\n",
       "      <th>Segment ID</th>\n",
       "      <th>Source Segment</th>\n",
       "      <th>Ref</th>\n",
       "      <th>MT_Y</th>\n",
       "      <th>MT_Z</th>\n",
       "      <th>Ref_rating</th>\n",
       "      <th>MT_Y_rating</th>\n",
       "      <th>MT_Z_rating</th>\n",
       "      <th>Error</th>\n",
       "      <th>MT_Y_TER</th>\n",
       "      <th>MT_Z_TER</th>\n",
       "    </tr>\n",
       "  </thead>\n",
       "  <tbody>\n",
       "    <tr>\n",
       "      <th>331</th>\n",
       "      <td>332</td>\n",
       "      <td>Mother-of-two Naadiya Moosajee, a South African engineer, social entrepreneur and co-founder of Women in Engineering, revealed: “We acknowledged the importance of not just education for girls but being role models for boys — that we are women who are influential and who boys can look up to as well,” People reports.</td>\n",
       "      <td>남아공 출신 공학자이자 기업가이며 위민 인 엔지니어링의 공동설립자인 두 아이의 엄마 나디야 무사지는 다음과 같이 말했다. “우리는 소녀들을 교육시키는 것뿐만 아니라 소년들의 롤모델이 되는 것도 중요하다는 걸 안다. 왜냐하면 우리는 영향력 있는 여성들이고, 소년들이 존경할 수 있는 사람들이기 때문이다.”라고 피플지(People)는 보도했다.</td>\n",
       "      <td>남아프리카의 엔지니어이자 사회적 기업가이자 여성 공학 공동 설립자인 Naadiya Mosajee는 \"우리는 여자아이들을 위한 교육뿐만 아니라 남자아이들을 위한 역할 모델이 되는 것의 중요성을 인정했습니다 – 우리는 영향력 있고 남자아이들도 존경할 수 있는 여자입니다,\"라고 사람들은 보도했다.</td>\n",
       "      <td>남아프리카의 엔지니어이자 사회 사업가이자 공학 분야의 여성 공동 설립자인 Naadiya Moosajee는 다음과 같이 밝혔다. \"우리는 소녀를 위한 교육뿐만 아니라 소년을 위한 역할 모델의 중요성을 인정했습니다. 우리는 영향력 있고 소년이 존경할 수 있는 여성입니다.\"라고 People은보고 합니다.</td>\n",
       "      <td>1</td>\n",
       "      <td>2</td>\n",
       "      <td>3</td>\n",
       "      <td>T</td>\n",
       "      <td>115.676923</td>\n",
       "      <td>120.225564</td>\n",
       "    </tr>\n",
       "  </tbody>\n",
       "</table>\n",
       "</div>"
      ],
      "text/plain": [
       "     Segment ID  \\\n",
       "331         332   \n",
       "\n",
       "                                                                                                                                                                                                                                                                                                                   Source Segment  \\\n",
       "331  Mother-of-two Naadiya Moosajee, a South African engineer, social entrepreneur and co-founder of Women in Engineering, revealed: “We acknowledged the importance of not just education for girls but being role models for boys — that we are women who are influential and who boys can look up to as well,” People reports.   \n",
       "\n",
       "                                                                                                                                                                                                Ref  \\\n",
       "331  남아공 출신 공학자이자 기업가이며 위민 인 엔지니어링의 공동설립자인 두 아이의 엄마 나디야 무사지는 다음과 같이 말했다. “우리는 소녀들을 교육시키는 것뿐만 아니라 소년들의 롤모델이 되는 것도 중요하다는 걸 안다. 왜냐하면 우리는 영향력 있는 여성들이고, 소년들이 존경할 수 있는 사람들이기 때문이다.”라고 피플지(People)는 보도했다.   \n",
       "\n",
       "                                                                                                                                                                    MT_Y  \\\n",
       "331  남아프리카의 엔지니어이자 사회적 기업가이자 여성 공학 공동 설립자인 Naadiya Mosajee는 \"우리는 여자아이들을 위한 교육뿐만 아니라 남자아이들을 위한 역할 모델이 되는 것의 중요성을 인정했습니다 – 우리는 영향력 있고 남자아이들도 존경할 수 있는 여자입니다,\"라고 사람들은 보도했다.   \n",
       "\n",
       "                                                                                                                                                                        MT_Z  \\\n",
       "331  남아프리카의 엔지니어이자 사회 사업가이자 공학 분야의 여성 공동 설립자인 Naadiya Moosajee는 다음과 같이 밝혔다. \"우리는 소녀를 위한 교육뿐만 아니라 소년을 위한 역할 모델의 중요성을 인정했습니다. 우리는 영향력 있고 소년이 존경할 수 있는 여성입니다.\"라고 People은보고 합니다.   \n",
       "\n",
       "     Ref_rating  MT_Y_rating  MT_Z_rating Error    MT_Y_TER    MT_Z_TER  \n",
       "331           1            2            3     T  115.676923  120.225564  "
      ]
     },
     "execution_count": 182,
     "metadata": {},
     "output_type": "execute_result"
    }
   ],
   "source": [
    "after[after[\"Segment ID\"] == 332]"
   ]
  },
  {
   "cell_type": "code",
   "execution_count": 38,
   "id": "704e76a7-bf80-4463-bec2-f6f56e265753",
   "metadata": {},
   "outputs": [
    {
     "data": {
      "text/html": [
       "<div>\n",
       "<style scoped>\n",
       "    .dataframe tbody tr th:only-of-type {\n",
       "        vertical-align: middle;\n",
       "    }\n",
       "\n",
       "    .dataframe tbody tr th {\n",
       "        vertical-align: top;\n",
       "    }\n",
       "\n",
       "    .dataframe thead th {\n",
       "        text-align: right;\n",
       "    }\n",
       "</style>\n",
       "<table border=\"1\" class=\"dataframe\">\n",
       "  <thead>\n",
       "    <tr style=\"text-align: right;\">\n",
       "      <th></th>\n",
       "      <th>Segment ID</th>\n",
       "      <th>Source Segment</th>\n",
       "      <th>Ref</th>\n",
       "      <th>MT_Y</th>\n",
       "      <th>MT_Z</th>\n",
       "      <th>Ref_rating</th>\n",
       "      <th>MT_Y_rating</th>\n",
       "      <th>MT_Z_rating</th>\n",
       "      <th>Error</th>\n",
       "      <th>MT_Y_TER</th>\n",
       "    </tr>\n",
       "  </thead>\n",
       "  <tbody>\n",
       "    <tr>\n",
       "      <th>279</th>\n",
       "      <td>280</td>\n",
       "      <td>Citing a U.N.-backed reportreleased last year,...</td>\n",
       "      <td>지난해 공개된 UN 후원 보고서에 따르면, 시위자들은 지구 온도가 2.7도 이상 상...</td>\n",
       "      <td>시위대는 지난해 유엔이 지지한 보고서를 인용, 지구온도가 2.7도 이상 상승하는 것...</td>\n",
       "      <td>시위대는 지난해 발표된 유엔의 지원을 받는 보고서를 인용, 지구 기온이 2.7도 이...</td>\n",
       "      <td>1</td>\n",
       "      <td>1</td>\n",
       "      <td>2</td>\n",
       "      <td>T</td>\n",
       "      <td>102.808989</td>\n",
       "    </tr>\n",
       "  </tbody>\n",
       "</table>\n",
       "</div>"
      ],
      "text/plain": [
       "     Segment ID                                     Source Segment  \\\n",
       "279         280  Citing a U.N.-backed reportreleased last year,...   \n",
       "\n",
       "                                                   Ref  \\\n",
       "279  지난해 공개된 UN 후원 보고서에 따르면, 시위자들은 지구 온도가 2.7도 이상 상...   \n",
       "\n",
       "                                                  MT_Y  \\\n",
       "279  시위대는 지난해 유엔이 지지한 보고서를 인용, 지구온도가 2.7도 이상 상승하는 것...   \n",
       "\n",
       "                                                  MT_Z  Ref_rating  \\\n",
       "279  시위대는 지난해 발표된 유엔의 지원을 받는 보고서를 인용, 지구 기온이 2.7도 이...           1   \n",
       "\n",
       "     MT_Y_rating  MT_Z_rating Error    MT_Y_TER  \n",
       "279            1            2     T  102.808989  "
      ]
     },
     "execution_count": 38,
     "metadata": {},
     "output_type": "execute_result"
    }
   ],
   "source": [
    "before[before[\"Segment ID\"] == 280]"
   ]
  },
  {
   "cell_type": "code",
   "execution_count": 37,
   "id": "a7033461-62aa-475f-9779-148140fad297",
   "metadata": {},
   "outputs": [
    {
     "data": {
      "text/html": [
       "<div>\n",
       "<style scoped>\n",
       "    .dataframe tbody tr th:only-of-type {\n",
       "        vertical-align: middle;\n",
       "    }\n",
       "\n",
       "    .dataframe tbody tr th {\n",
       "        vertical-align: top;\n",
       "    }\n",
       "\n",
       "    .dataframe thead th {\n",
       "        text-align: right;\n",
       "    }\n",
       "</style>\n",
       "<table border=\"1\" class=\"dataframe\">\n",
       "  <thead>\n",
       "    <tr style=\"text-align: right;\">\n",
       "      <th></th>\n",
       "      <th>Segment ID</th>\n",
       "      <th>Source Segment</th>\n",
       "      <th>Ref</th>\n",
       "      <th>MT_Y</th>\n",
       "      <th>MT_Z</th>\n",
       "      <th>Ref_rating</th>\n",
       "      <th>MT_Y_rating</th>\n",
       "      <th>MT_Z_rating</th>\n",
       "      <th>Error</th>\n",
       "    </tr>\n",
       "  </thead>\n",
       "  <tbody>\n",
       "    <tr>\n",
       "      <th>279</th>\n",
       "      <td>280</td>\n",
       "      <td>Citing a U.N.-backed report released last year...</td>\n",
       "      <td>지난해 공개된 UN 후원 보고서에 따르면, 시위자들은 지구 온도가 2.7도 이상 상...</td>\n",
       "      <td>시위대는 지난해 유엔이 지지한 보고서를 인용, 지구온도가 2.7도 이상 상승하는 것...</td>\n",
       "      <td>시위대는 지난해 발표된 유엔의 지원을 받는 보고서를 인용해 지구 기온이 2.7도 이...</td>\n",
       "      <td>2</td>\n",
       "      <td>1</td>\n",
       "      <td>2</td>\n",
       "      <td>T</td>\n",
       "    </tr>\n",
       "  </tbody>\n",
       "</table>\n",
       "</div>"
      ],
      "text/plain": [
       "     Segment ID                                     Source Segment  \\\n",
       "279         280  Citing a U.N.-backed report released last year...   \n",
       "\n",
       "                                                   Ref  \\\n",
       "279  지난해 공개된 UN 후원 보고서에 따르면, 시위자들은 지구 온도가 2.7도 이상 상...   \n",
       "\n",
       "                                                  MT_Y  \\\n",
       "279  시위대는 지난해 유엔이 지지한 보고서를 인용, 지구온도가 2.7도 이상 상승하는 것...   \n",
       "\n",
       "                                                  MT_Z  Ref_rating  \\\n",
       "279  시위대는 지난해 발표된 유엔의 지원을 받는 보고서를 인용해 지구 기온이 2.7도 이...           2   \n",
       "\n",
       "     MT_Y_rating  MT_Z_rating Error  \n",
       "279            1            2     T  "
      ]
     },
     "execution_count": 37,
     "metadata": {},
     "output_type": "execute_result"
    }
   ],
   "source": [
    "after[after[\"Segment ID\"] == 280]"
   ]
  },
  {
   "cell_type": "code",
   "execution_count": 29,
   "id": "482947db-7145-469a-b915-848c69429267",
   "metadata": {},
   "outputs": [],
   "source": [
    "a = before[before[\"Segment ID\"] == 280].MT_Y\n",
    "b = after[after[\"Segment ID\"] == 280].MT_Y\n",
    "\n",
    "a = [' '.join(mecab(s)).replace(\"▃\", \"\").replace(\"  \", \" \") for s in a]\n",
    "b = [' '.join(mecab(s)).replace(\"▃\", \"\").replace(\"  \", \" \") for s in b]"
   ]
  },
  {
   "cell_type": "code",
   "execution_count": 30,
   "id": "736ad645-c9d8-4408-a4dd-f87e81b1d877",
   "metadata": {},
   "outputs": [
    {
     "data": {
      "text/plain": [
       "0.0"
      ]
     },
     "execution_count": 30,
     "metadata": {},
     "output_type": "execute_result"
    }
   ],
   "source": [
    "sacrebleu.sentence_ter(a, b).score"
   ]
  },
  {
   "cell_type": "code",
   "execution_count": null,
   "id": "63dce9a3-4029-4023-b19f-37da86a19fb3",
   "metadata": {},
   "outputs": [],
   "source": []
  }
 ],
 "metadata": {
  "kernelspec": {
   "display_name": "Python 3",
   "language": "python",
   "name": "python3"
  },
  "language_info": {
   "codemirror_mode": {
    "name": "ipython",
    "version": 3
   },
   "file_extension": ".py",
   "mimetype": "text/x-python",
   "name": "python",
   "nbconvert_exporter": "python",
   "pygments_lexer": "ipython3",
   "version": "3.6.9"
  }
 },
 "nbformat": 4,
 "nbformat_minor": 5
}
