{
 "cells": [
  {
   "cell_type": "code",
   "execution_count": 80,
   "source": [
    "# custom modules\n",
    "from ranking_score import *\n",
    "from iaa import *"
   ],
   "outputs": [],
   "metadata": {}
  },
  {
   "cell_type": "code",
   "execution_count": 81,
   "source": [
    "import pandas as pd\n",
    "pd.set_option(\"display.max_rows\", None)\n",
    "\n",
    "import numpy as np\n",
    "from koMecab import mecab\n",
    "import sacrebleu"
   ],
   "outputs": [],
   "metadata": {}
  },
  {
   "cell_type": "markdown",
   "source": [
    "### Get the data"
   ],
   "metadata": {
    "tags": []
   }
  },
  {
   "cell_type": "code",
   "execution_count": 82,
   "source": [
    "before = pd.read_csv(\"../raw_data/relative_ranking_a+b_before.csv\", sep=\"\\t\", encoding=\"utf-8\")\n",
    "after = pd.read_csv(\"../raw_data/relative_ranking_a+b_after.csv\", sep=\"\\t\", encoding=\"utf-8\")"
   ],
   "outputs": [],
   "metadata": {}
  },
  {
   "cell_type": "code",
   "execution_count": 83,
   "source": [
    "del before[\"Unnamed: 0\"]\n",
    "del after[\"Unnamed: 0\"]\n",
    "before.head(1)"
   ],
   "outputs": [
    {
     "output_type": "execute_result",
     "data": {
      "text/html": [
       "<div>\n",
       "<style scoped>\n",
       "    .dataframe tbody tr th:only-of-type {\n",
       "        vertical-align: middle;\n",
       "    }\n",
       "\n",
       "    .dataframe tbody tr th {\n",
       "        vertical-align: top;\n",
       "    }\n",
       "\n",
       "    .dataframe thead th {\n",
       "        text-align: right;\n",
       "    }\n",
       "</style>\n",
       "<table border=\"1\" class=\"dataframe\">\n",
       "  <thead>\n",
       "    <tr style=\"text-align: right;\">\n",
       "      <th></th>\n",
       "      <th>Segment ID</th>\n",
       "      <th>Source Segment</th>\n",
       "      <th>Ref</th>\n",
       "      <th>MT_Y</th>\n",
       "      <th>MT_Z</th>\n",
       "      <th>Ref_rating</th>\n",
       "      <th>MT_Y_rating</th>\n",
       "      <th>MT_Z_rating</th>\n",
       "      <th>Error</th>\n",
       "    </tr>\n",
       "  </thead>\n",
       "  <tbody>\n",
       "    <tr>\n",
       "      <th>0</th>\n",
       "      <td>1</td>\n",
       "      <td>Royal news: How Princess Beatrice \"reacted with fury at hostile family members\"</td>\n",
       "      <td>영국 왕실 뉴스: 베아트리스 공주, ‘적대적인 왕실 구성원들에게 이렇게 분노 표출해’</td>\n",
       "      <td>왕실 뉴스: 베아트리체 공주가 \"적대하는 가족들에게 분노의 반응을 보였다\"</td>\n",
       "      <td>왕실 뉴스: 베아트리체 공주가 적대적인 가족들에게 분노로 어떻게 반응했는가</td>\n",
       "      <td>2</td>\n",
       "      <td>2</td>\n",
       "      <td>1</td>\n",
       "      <td>F</td>\n",
       "    </tr>\n",
       "  </tbody>\n",
       "</table>\n",
       "</div>"
      ],
      "text/plain": [
       "   Segment ID  \\\n",
       "0           1   \n",
       "\n",
       "                                                                    Source Segment  \\\n",
       "0  Royal news: How Princess Beatrice \"reacted with fury at hostile family members\"   \n",
       "\n",
       "                                               Ref  \\\n",
       "0  영국 왕실 뉴스: 베아트리스 공주, ‘적대적인 왕실 구성원들에게 이렇게 분노 표출해’   \n",
       "\n",
       "                                        MT_Y  \\\n",
       "0  왕실 뉴스: 베아트리체 공주가 \"적대하는 가족들에게 분노의 반응을 보였다\"   \n",
       "\n",
       "                                        MT_Z  Ref_rating  MT_Y_rating  \\\n",
       "0  왕실 뉴스: 베아트리체 공주가 적대적인 가족들에게 분노로 어떻게 반응했는가           2            2   \n",
       "\n",
       "   MT_Z_rating Error  \n",
       "0            1     F  "
      ]
     },
     "metadata": {},
     "execution_count": 83
    }
   ],
   "metadata": {
    "tags": []
   }
  },
  {
   "cell_type": "markdown",
   "source": [
    "### Get the result"
   ],
   "metadata": {
    "tags": []
   }
  },
  {
   "cell_type": "code",
   "execution_count": 6,
   "source": [
    "result_before = get_result(before)\n",
    "result_after = get_result(after)"
   ],
   "outputs": [],
   "metadata": {
    "jupyter": {
     "source_hidden": true
    },
    "tags": []
   }
  },
  {
   "cell_type": "code",
   "execution_count": 178,
   "source": [
    "result_before"
   ],
   "outputs": [
    {
     "output_type": "execute_result",
     "data": {
      "text/html": [
       "<div>\n",
       "<style scoped>\n",
       "    .dataframe tbody tr th:only-of-type {\n",
       "        vertical-align: middle;\n",
       "    }\n",
       "\n",
       "    .dataframe tbody tr th {\n",
       "        vertical-align: top;\n",
       "    }\n",
       "\n",
       "    .dataframe thead th {\n",
       "        text-align: right;\n",
       "    }\n",
       "</style>\n",
       "<table border=\"1\" class=\"dataframe\">\n",
       "  <thead>\n",
       "    <tr style=\"text-align: right;\">\n",
       "      <th></th>\n",
       "      <th>MT_Y</th>\n",
       "      <th>MT_Z</th>\n",
       "    </tr>\n",
       "  </thead>\n",
       "  <tbody>\n",
       "    <tr>\n",
       "      <th>MT_better</th>\n",
       "      <td>61</td>\n",
       "      <td>56</td>\n",
       "    </tr>\n",
       "    <tr>\n",
       "      <th>HT_better</th>\n",
       "      <td>256</td>\n",
       "      <td>284</td>\n",
       "    </tr>\n",
       "    <tr>\n",
       "      <th>Tie</th>\n",
       "      <td>120</td>\n",
       "      <td>97</td>\n",
       "    </tr>\n",
       "    <tr>\n",
       "      <th>P-value</th>\n",
       "      <td>3.62841e-21</td>\n",
       "      <td>5.10358e-29</td>\n",
       "    </tr>\n",
       "    <tr>\n",
       "      <th>Valid</th>\n",
       "      <td>True</td>\n",
       "      <td>True</td>\n",
       "    </tr>\n",
       "    <tr>\n",
       "      <th>Ab_score</th>\n",
       "      <td>2.22883</td>\n",
       "      <td>2.07551</td>\n",
       "    </tr>\n",
       "  </tbody>\n",
       "</table>\n",
       "</div>"
      ],
      "text/plain": [
       "                  MT_Y         MT_Z\n",
       "MT_better           61           56\n",
       "HT_better          256          284\n",
       "Tie                120           97\n",
       "P-value    3.62841e-21  5.10358e-29\n",
       "Valid             True         True\n",
       "Ab_score       2.22883      2.07551"
      ]
     },
     "metadata": {},
     "execution_count": 178
    }
   ],
   "metadata": {}
  },
  {
   "cell_type": "code",
   "execution_count": 179,
   "source": [
    "result_after"
   ],
   "outputs": [
    {
     "output_type": "execute_result",
     "data": {
      "text/html": [
       "<div>\n",
       "<style scoped>\n",
       "    .dataframe tbody tr th:only-of-type {\n",
       "        vertical-align: middle;\n",
       "    }\n",
       "\n",
       "    .dataframe tbody tr th {\n",
       "        vertical-align: top;\n",
       "    }\n",
       "\n",
       "    .dataframe thead th {\n",
       "        text-align: right;\n",
       "    }\n",
       "</style>\n",
       "<table border=\"1\" class=\"dataframe\">\n",
       "  <thead>\n",
       "    <tr style=\"text-align: right;\">\n",
       "      <th></th>\n",
       "      <th>MT_Y</th>\n",
       "      <th>MT_Z</th>\n",
       "    </tr>\n",
       "  </thead>\n",
       "  <tbody>\n",
       "    <tr>\n",
       "      <th>MT_better</th>\n",
       "      <td>49</td>\n",
       "      <td>40</td>\n",
       "    </tr>\n",
       "    <tr>\n",
       "      <th>HT_better</th>\n",
       "      <td>290</td>\n",
       "      <td>321</td>\n",
       "    </tr>\n",
       "    <tr>\n",
       "      <th>Tie</th>\n",
       "      <td>98</td>\n",
       "      <td>76</td>\n",
       "    </tr>\n",
       "    <tr>\n",
       "      <th>P-value</th>\n",
       "      <td>3.71747e-32</td>\n",
       "      <td>3.81629e-44</td>\n",
       "    </tr>\n",
       "    <tr>\n",
       "      <th>Valid</th>\n",
       "      <td>True</td>\n",
       "      <td>True</td>\n",
       "    </tr>\n",
       "    <tr>\n",
       "      <th>Ab_score</th>\n",
       "      <td>2.13959</td>\n",
       "      <td>1.93593</td>\n",
       "    </tr>\n",
       "  </tbody>\n",
       "</table>\n",
       "</div>"
      ],
      "text/plain": [
       "                  MT_Y         MT_Z\n",
       "MT_better           49           40\n",
       "HT_better          290          321\n",
       "Tie                 98           76\n",
       "P-value    3.71747e-32  3.81629e-44\n",
       "Valid             True         True\n",
       "Ab_score       2.13959      1.93593"
      ]
     },
     "metadata": {},
     "execution_count": 179
    }
   ],
   "metadata": {}
  },
  {
   "cell_type": "markdown",
   "source": [
    "#### absolute score of HT"
   ],
   "metadata": {
    "tags": []
   }
  },
  {
   "cell_type": "code",
   "execution_count": 181,
   "source": [
    "absolute_score(before, \"Ref\")"
   ],
   "outputs": [
    {
     "output_type": "execute_result",
     "data": {
      "text/plain": [
       "{'Ref': (2.7734553775743707, 360, 55, 22)}"
      ]
     },
     "metadata": {},
     "execution_count": 181
    }
   ],
   "metadata": {}
  },
  {
   "cell_type": "code",
   "execution_count": 182,
   "source": [
    "absolute_score(after, \"Ref\")"
   ],
   "outputs": [
    {
     "output_type": "execute_result",
     "data": {
      "text/plain": [
       "{'Ref': (2.8260869565217392, 380, 38, 19)}"
      ]
     },
     "metadata": {},
     "execution_count": 182
    }
   ],
   "metadata": {}
  },
  {
   "cell_type": "markdown",
   "source": [
    "### Result: Error==\"T\""
   ],
   "metadata": {
    "jp-MarkdownHeadingCollapsed": true,
    "tags": []
   }
  },
  {
   "cell_type": "code",
   "execution_count": 170,
   "source": [
    "before_error = before[before[\"Error\"] == \"T\"]\n",
    "len(before_error)"
   ],
   "outputs": [
    {
     "output_type": "execute_result",
     "data": {
      "text/plain": [
       "92"
      ]
     },
     "metadata": {},
     "execution_count": 170
    }
   ],
   "metadata": {}
  },
  {
   "cell_type": "code",
   "execution_count": 171,
   "source": [
    "after_error = after[after[\"Error\"] == \"T\"]\n",
    "len(after_error)"
   ],
   "outputs": [
    {
     "output_type": "execute_result",
     "data": {
      "text/plain": [
       "92"
      ]
     },
     "metadata": {},
     "execution_count": 171
    }
   ],
   "metadata": {}
  },
  {
   "cell_type": "code",
   "execution_count": 183,
   "source": [
    "result_before_error = get_result(before_error)\n",
    "result_after_error = get_result(after_error)"
   ],
   "outputs": [],
   "metadata": {}
  },
  {
   "cell_type": "code",
   "execution_count": 184,
   "source": [
    "result_before_error"
   ],
   "outputs": [
    {
     "output_type": "execute_result",
     "data": {
      "text/html": [
       "<div>\n",
       "<style scoped>\n",
       "    .dataframe tbody tr th:only-of-type {\n",
       "        vertical-align: middle;\n",
       "    }\n",
       "\n",
       "    .dataframe tbody tr th {\n",
       "        vertical-align: top;\n",
       "    }\n",
       "\n",
       "    .dataframe thead th {\n",
       "        text-align: right;\n",
       "    }\n",
       "</style>\n",
       "<table border=\"1\" class=\"dataframe\">\n",
       "  <thead>\n",
       "    <tr style=\"text-align: right;\">\n",
       "      <th></th>\n",
       "      <th>MT_Y</th>\n",
       "      <th>MT_Z</th>\n",
       "    </tr>\n",
       "  </thead>\n",
       "  <tbody>\n",
       "    <tr>\n",
       "      <th>MT_better</th>\n",
       "      <td>18</td>\n",
       "      <td>12</td>\n",
       "    </tr>\n",
       "    <tr>\n",
       "      <th>HT_better</th>\n",
       "      <td>58</td>\n",
       "      <td>59</td>\n",
       "    </tr>\n",
       "    <tr>\n",
       "      <th>Tie</th>\n",
       "      <td>16</td>\n",
       "      <td>21</td>\n",
       "    </tr>\n",
       "    <tr>\n",
       "      <th>P-value</th>\n",
       "      <td>3.67005e-05</td>\n",
       "      <td>5.34814e-07</td>\n",
       "    </tr>\n",
       "    <tr>\n",
       "      <th>Valid</th>\n",
       "      <td>True</td>\n",
       "      <td>True</td>\n",
       "    </tr>\n",
       "    <tr>\n",
       "      <th>Ab_score</th>\n",
       "      <td>2.18478</td>\n",
       "      <td>2.09783</td>\n",
       "    </tr>\n",
       "  </tbody>\n",
       "</table>\n",
       "</div>"
      ],
      "text/plain": [
       "                  MT_Y         MT_Z\n",
       "MT_better           18           12\n",
       "HT_better           58           59\n",
       "Tie                 16           21\n",
       "P-value    3.67005e-05  5.34814e-07\n",
       "Valid             True         True\n",
       "Ab_score       2.18478      2.09783"
      ]
     },
     "metadata": {},
     "execution_count": 184
    }
   ],
   "metadata": {}
  },
  {
   "cell_type": "code",
   "execution_count": 185,
   "source": [
    "result_after_error"
   ],
   "outputs": [
    {
     "output_type": "execute_result",
     "data": {
      "text/html": [
       "<div>\n",
       "<style scoped>\n",
       "    .dataframe tbody tr th:only-of-type {\n",
       "        vertical-align: middle;\n",
       "    }\n",
       "\n",
       "    .dataframe tbody tr th {\n",
       "        vertical-align: top;\n",
       "    }\n",
       "\n",
       "    .dataframe thead th {\n",
       "        text-align: right;\n",
       "    }\n",
       "</style>\n",
       "<table border=\"1\" class=\"dataframe\">\n",
       "  <thead>\n",
       "    <tr style=\"text-align: right;\">\n",
       "      <th></th>\n",
       "      <th>MT_Y</th>\n",
       "      <th>MT_Z</th>\n",
       "    </tr>\n",
       "  </thead>\n",
       "  <tbody>\n",
       "    <tr>\n",
       "      <th>MT_better</th>\n",
       "      <td>9</td>\n",
       "      <td>6</td>\n",
       "    </tr>\n",
       "    <tr>\n",
       "      <th>HT_better</th>\n",
       "      <td>61</td>\n",
       "      <td>68</td>\n",
       "    </tr>\n",
       "    <tr>\n",
       "      <th>Tie</th>\n",
       "      <td>22</td>\n",
       "      <td>18</td>\n",
       "    </tr>\n",
       "    <tr>\n",
       "      <th>P-value</th>\n",
       "      <td>4.60625e-08</td>\n",
       "      <td>3.2624e-11</td>\n",
       "    </tr>\n",
       "    <tr>\n",
       "      <th>Valid</th>\n",
       "      <td>True</td>\n",
       "      <td>True</td>\n",
       "    </tr>\n",
       "    <tr>\n",
       "      <th>Ab_score</th>\n",
       "      <td>2.11957</td>\n",
       "      <td>1.94565</td>\n",
       "    </tr>\n",
       "  </tbody>\n",
       "</table>\n",
       "</div>"
      ],
      "text/plain": [
       "                  MT_Y        MT_Z\n",
       "MT_better            9           6\n",
       "HT_better           61          68\n",
       "Tie                 22          18\n",
       "P-value    4.60625e-08  3.2624e-11\n",
       "Valid             True        True\n",
       "Ab_score       2.11957     1.94565"
      ]
     },
     "metadata": {},
     "execution_count": 185
    }
   ],
   "metadata": {}
  },
  {
   "cell_type": "markdown",
   "source": [
    "#### absolute score of HT"
   ],
   "metadata": {
    "tags": []
   }
  },
  {
   "cell_type": "code",
   "execution_count": 187,
   "source": [
    "absolute_score(before_error, \"Ref\")"
   ],
   "outputs": [
    {
     "output_type": "execute_result",
     "data": {
      "text/plain": [
       "{'Ref': (2.7065217391304346, 74, 9, 9)}"
      ]
     },
     "metadata": {},
     "execution_count": 187
    }
   ],
   "metadata": {}
  },
  {
   "cell_type": "code",
   "execution_count": 186,
   "source": [
    "absolute_score(after_error, \"Ref\")"
   ],
   "outputs": [
    {
     "output_type": "execute_result",
     "data": {
      "text/plain": [
       "{'Ref': (2.858695652173913, 82, 7, 3)}"
      ]
     },
     "metadata": {},
     "execution_count": 186
    }
   ],
   "metadata": {}
  },
  {
   "cell_type": "markdown",
   "source": [
    "### IAA"
   ],
   "metadata": {
    "jp-MarkdownHeadingCollapsed": true,
    "tags": []
   }
  },
  {
   "cell_type": "code",
   "execution_count": 10,
   "source": [
    "file_dicts = read_files()  # group, dfs\n",
    "individual_IAA(file_dicts, \"a\")"
   ],
   "outputs": [
    {
     "output_type": "execute_result",
     "data": {
      "text/plain": [
       "0.4759"
      ]
     },
     "metadata": {},
     "execution_count": 10
    }
   ],
   "metadata": {}
  },
  {
   "cell_type": "code",
   "execution_count": 199,
   "source": [
    "file_dicts.keys()"
   ],
   "outputs": [
    {
     "output_type": "execute_result",
     "data": {
      "text/plain": [
       "dict_keys(['a1', 'a2', 'b1', 'b2', 'c1', 'c2', 'd1', 'd2', 'e1', 'e2', 'f1', 'f2', 'g1', 'g2', 'h1', 'h2', 'i1', 'i2', 'j1', 'j2', 'k1', 'k2'])"
      ]
     },
     "metadata": {},
     "execution_count": 199
    }
   ],
   "metadata": {}
  },
  {
   "cell_type": "code",
   "execution_count": 11,
   "source": [
    "final_IAA(file_dicts)"
   ],
   "outputs": [
    {
     "output_type": "execute_result",
     "data": {
      "text/plain": [
       "{'a': 0.4759,\n",
       " 'b': 0.3032,\n",
       " 'c': 0.4107,\n",
       " 'd': 0.1687,\n",
       " 'e': 0.2711,\n",
       " 'f': 0.382,\n",
       " 'g': 0.3773,\n",
       " 'h': 0.1314,\n",
       " 'i': 0.2233,\n",
       " 'j': 0.1971,\n",
       " 'k': 0.474}"
      ]
     },
     "metadata": {},
     "execution_count": 11
    }
   ],
   "metadata": {}
  },
  {
   "cell_type": "code",
   "execution_count": 16,
   "source": [
    "kappa_dict = final_IAA(file_dicts)\n",
    "print(np.mean([score for _, score in kappa_dict.items()]))\n",
    "print(np.min([score for _, score in kappa_dict.items()]))\n",
    "print(np.max([score for _, score in kappa_dict.items()]))"
   ],
   "outputs": [
    {
     "output_type": "stream",
     "name": "stdout",
     "text": [
      "0.3104272727272727\n",
      "0.1314\n",
      "0.4759\n"
     ]
    }
   ],
   "metadata": {}
  },
  {
   "cell_type": "markdown",
   "source": [
    "### SacreBLEU"
   ],
   "metadata": {
    "jp-MarkdownHeadingCollapsed": true,
    "tags": []
   }
  },
  {
   "cell_type": "markdown",
   "source": [
    "#### before"
   ],
   "metadata": {
    "tags": []
   }
  },
  {
   "cell_type": "code",
   "execution_count": 121,
   "source": [
    "%%time\n",
    "reference = before.Ref.tolist()\n",
    "hypothesis_y = before.MT_Y.tolist()\n",
    "hypothesis_z = before.MT_Z.tolist()\n",
    "\n",
    "reference = [' '.join(mecab(s)).replace(\"▃\", \"\").replace(\"  \", \" \") for s in reference]\n",
    "hypothesis_y = [' '.join(mecab(s)).replace(\"▃\", \"\").replace(\"  \", \" \") for s in hypothesis_y]\n",
    "hypothesis_z = [' '.join(mecab(s)).replace(\"▃\", \"\").replace(\"  \", \" \") for s in hypothesis_z]\n",
    "\n",
    "for system in [hypothesis_y, hypothesis_z]:\n",
    "    \n",
    "    bleu = sacrebleu.corpus_bleu(system, [reference])\n",
    "    ter = sacrebleu.corpus_ter(system, [reference])\n",
    "    !--force\n",
    "    chrf = sacrebleu.corpus_chrf(system, [reference])\n",
    "    \n",
    "    if system == hypothesis_y:\n",
    "        print(\"[MT_Y]\")\n",
    "    else:\n",
    "        print(\"[MT_Z]\")\n",
    "        \n",
    "    print(\"BLEU: \", bleu.score)\n",
    "    print(\"TER: \", ter.score)\n",
    "    print(\"chrF\", chrf.score)\n",
    "    print()"
   ],
   "outputs": [
    {
     "output_type": "stream",
     "name": "stderr",
     "text": [
      "That's 100 lines that end in a tokenized period ('.')\n",
      "It looks like you forgot to detokenize your test data, which may hurt your score.\n",
      "If you insist your data is detokenized, or don't care, you can suppress this message with '--force'.\n"
     ]
    },
    {
     "output_type": "stream",
     "name": "stdout",
     "text": [
      "/bin/bash: --: invalid option\n",
      "Usage:\t/bin/bash [GNU long option] [option] ...\n",
      "\t/bin/bash [GNU long option] [option] script-file ...\n",
      "GNU long options:\n",
      "\t--debug\n",
      "\t--debugger\n",
      "\t--dump-po-strings\n",
      "\t--dump-strings\n",
      "\t--help\n",
      "\t--init-file\n",
      "\t--login\n",
      "\t--noediting\n",
      "\t--noprofile\n",
      "\t--norc\n",
      "\t--posix\n",
      "\t--rcfile\n",
      "\t--restricted\n",
      "\t--verbose\n",
      "\t--version\n",
      "Shell options:\n",
      "\t-ilrsD or -c command or -O shopt_option\t\t(invocation only)\n",
      "\t-abefhkmnptuvxBCHP or -o option\n"
     ]
    },
    {
     "output_type": "stream",
     "name": "stderr",
     "text": [
      "That's 100 lines that end in a tokenized period ('.')\n",
      "It looks like you forgot to detokenize your test data, which may hurt your score.\n",
      "If you insist your data is detokenized, or don't care, you can suppress this message with '--force'.\n"
     ]
    },
    {
     "output_type": "stream",
     "name": "stdout",
     "text": [
      "[MT_Y]\n",
      "BLEU:  19.785266218415302\n",
      "TER:  0.6547766323024055\n",
      "chrF 0.2707334386314116\n",
      "\n",
      "/bin/bash: --: invalid option\n",
      "Usage:\t/bin/bash [GNU long option] [option] ...\n",
      "\t/bin/bash [GNU long option] [option] script-file ...\n",
      "GNU long options:\n",
      "\t--debug\n",
      "\t--debugger\n",
      "\t--dump-po-strings\n",
      "\t--dump-strings\n",
      "\t--help\n",
      "\t--init-file\n",
      "\t--login\n",
      "\t--noediting\n",
      "\t--noprofile\n",
      "\t--norc\n",
      "\t--posix\n",
      "\t--rcfile\n",
      "\t--restricted\n",
      "\t--verbose\n",
      "\t--version\n",
      "Shell options:\n",
      "\t-ilrsD or -c command or -O shopt_option\t\t(invocation only)\n",
      "\t-abefhkmnptuvxBCHP or -o option\n",
      "[MT_Z]\n",
      "BLEU:  20.19309663896737\n",
      "TER:  0.6626804123711341\n",
      "chrF 0.26968267974474885\n",
      "\n",
      "CPU times: user 43.2 s, sys: 290 ms, total: 43.5 s\n",
      "Wall time: 43.7 s\n"
     ]
    }
   ],
   "metadata": {
    "collapsed": true,
    "jupyter": {
     "outputs_hidden": true
    },
    "tags": []
   }
  },
  {
   "cell_type": "markdown",
   "source": [
    "#### after"
   ],
   "metadata": {
    "tags": []
   }
  },
  {
   "cell_type": "code",
   "execution_count": 120,
   "source": [
    "%%time\n",
    "reference = after.Ref.tolist()\n",
    "hypothesis_y = after.MT_Y.tolist()\n",
    "hypothesis_z = after.MT_Z.tolist()\n",
    "\n",
    "reference = [' '.join(mecab(s)).replace(\"▃\", \"\").replace(\"  \", \" \") for s in reference]\n",
    "hypothesis_y = [' '.join(mecab(s)).replace(\"▃\", \"\").replace(\"  \", \" \") for s in hypothesis_y]\n",
    "hypothesis_z = [' '.join(mecab(s)).replace(\"▃\", \"\").replace(\"  \", \" \") for s in hypothesis_z]\n",
    "\n",
    "for system in [hypothesis_y, hypothesis_z]:\n",
    "    \n",
    "    bleu = sacrebleu.corpus_bleu(system, [reference])\n",
    "    ter = sacrebleu.corpus_ter(system, [reference])\n",
    "    !--force\n",
    "    chrf = sacrebleu.corpus_chrf(system, [reference])\n",
    "    \n",
    "    if system == hypothesis_y:\n",
    "        print(\"[MT_Y]\")\n",
    "    else:\n",
    "        print(\"[MT_Z]\")\n",
    "        \n",
    "    print(\"BLEU: \", bleu.score)\n",
    "    print(\"TER: \", ter.score)\n",
    "    print(\"chrF\", chrf.score)\n",
    "    print()"
   ],
   "outputs": [
    {
     "output_type": "stream",
     "name": "stderr",
     "text": [
      "That's 100 lines that end in a tokenized period ('.')\n",
      "It looks like you forgot to detokenize your test data, which may hurt your score.\n",
      "If you insist your data is detokenized, or don't care, you can suppress this message with '--force'.\n"
     ]
    },
    {
     "output_type": "stream",
     "name": "stdout",
     "text": [
      "/bin/bash: --: invalid option\n",
      "Usage:\t/bin/bash [GNU long option] [option] ...\n",
      "\t/bin/bash [GNU long option] [option] script-file ...\n",
      "GNU long options:\n",
      "\t--debug\n",
      "\t--debugger\n",
      "\t--dump-po-strings\n",
      "\t--dump-strings\n",
      "\t--help\n",
      "\t--init-file\n",
      "\t--login\n",
      "\t--noediting\n",
      "\t--noprofile\n",
      "\t--norc\n",
      "\t--posix\n",
      "\t--rcfile\n",
      "\t--restricted\n",
      "\t--verbose\n",
      "\t--version\n",
      "Shell options:\n",
      "\t-ilrsD or -c command or -O shopt_option\t\t(invocation only)\n",
      "\t-abefhkmnptuvxBCHP or -o option\n"
     ]
    },
    {
     "output_type": "stream",
     "name": "stderr",
     "text": [
      "That's 100 lines that end in a tokenized period ('.')\n",
      "It looks like you forgot to detokenize your test data, which may hurt your score.\n",
      "If you insist your data is detokenized, or don't care, you can suppress this message with '--force'.\n"
     ]
    },
    {
     "output_type": "stream",
     "name": "stdout",
     "text": [
      "[MT_Y]\n",
      "BLEU:  19.77921498933438\n",
      "TER:  0.6520962199312714\n",
      "chrF 0.271264889552056\n",
      "\n",
      "/bin/bash: --: invalid option\n",
      "Usage:\t/bin/bash [GNU long option] [option] ...\n",
      "\t/bin/bash [GNU long option] [option] script-file ...\n",
      "GNU long options:\n",
      "\t--debug\n",
      "\t--debugger\n",
      "\t--dump-po-strings\n",
      "\t--dump-strings\n",
      "\t--help\n",
      "\t--init-file\n",
      "\t--login\n",
      "\t--noediting\n",
      "\t--noprofile\n",
      "\t--norc\n",
      "\t--posix\n",
      "\t--rcfile\n",
      "\t--restricted\n",
      "\t--verbose\n",
      "\t--version\n",
      "Shell options:\n",
      "\t-ilrsD or -c command or -O shopt_option\t\t(invocation only)\n",
      "\t-abefhkmnptuvxBCHP or -o option\n",
      "[MT_Z]\n",
      "BLEU:  20.241028636714525\n",
      "TER:  0.6623367697594502\n",
      "chrF 0.2709943645290349\n",
      "\n",
      "CPU times: user 42.3 s, sys: 334 ms, total: 42.6 s\n",
      "Wall time: 42.8 s\n"
     ]
    }
   ],
   "metadata": {
    "collapsed": true,
    "jupyter": {
     "outputs_hidden": true
    },
    "tags": []
   }
  },
  {
   "cell_type": "markdown",
   "source": [
    "#### Google Translate"
   ],
   "metadata": {}
  },
  {
   "cell_type": "code",
   "execution_count": 84,
   "source": [
    "df = pd.read_csv(\"../data_out/_google+ter.csv\", sep=\"\\t\", encoding=\"utf-8\")\n",
    "del df[\"Unnamed: 0\"]\n",
    "df.head(1)"
   ],
   "outputs": [
    {
     "output_type": "execute_result",
     "data": {
      "text/html": [
       "<div>\n",
       "<style scoped>\n",
       "    .dataframe tbody tr th:only-of-type {\n",
       "        vertical-align: middle;\n",
       "    }\n",
       "\n",
       "    .dataframe tbody tr th {\n",
       "        vertical-align: top;\n",
       "    }\n",
       "\n",
       "    .dataframe thead th {\n",
       "        text-align: right;\n",
       "    }\n",
       "</style>\n",
       "<table border=\"1\" class=\"dataframe\">\n",
       "  <thead>\n",
       "    <tr style=\"text-align: right;\">\n",
       "      <th></th>\n",
       "      <th>Google Before</th>\n",
       "      <th>Google After</th>\n",
       "      <th>TER</th>\n",
       "    </tr>\n",
       "  </thead>\n",
       "  <tbody>\n",
       "    <tr>\n",
       "      <th>0</th>\n",
       "      <td>왕실 뉴스: 베아트리체 공주가 어떻게 \"적대적인 가족 구성원들에게 분노에 반응했는지\"</td>\n",
       "      <td>Royal News : 공주님이 적대 가족 구성원들에게 분노와 반응 한 공주</td>\n",
       "      <td>0.9091</td>\n",
       "    </tr>\n",
       "  </tbody>\n",
       "</table>\n",
       "</div>"
      ],
      "text/plain": [
       "                                     Google Before  \\\n",
       "0  왕실 뉴스: 베아트리체 공주가 어떻게 \"적대적인 가족 구성원들에게 분노에 반응했는지\"   \n",
       "\n",
       "                                 Google After     TER  \n",
       "0  Royal News : 공주님이 적대 가족 구성원들에게 분노와 반응 한 공주  0.9091  "
      ]
     },
     "metadata": {},
     "execution_count": 84
    }
   ],
   "metadata": {}
  },
  {
   "cell_type": "code",
   "execution_count": 85,
   "source": [
    "len(df)"
   ],
   "outputs": [
    {
     "output_type": "execute_result",
     "data": {
      "text/plain": [
       "437"
      ]
     },
     "metadata": {},
     "execution_count": 85
    }
   ],
   "metadata": {}
  },
  {
   "cell_type": "code",
   "execution_count": 168,
   "source": [
    "reference = after.Ref.tolist()\n",
    "google_before = df[\"Google Before\"].tolist()\n",
    "google_after = df[\"Google After\"].tolist()\n",
    "\n",
    "reference = [' '.join(mecab(s)).replace(\"▃\", \"\").replace(\"  \", \" \") for s in reference]\n",
    "google_before = [' '.join(mecab(s)).replace(\"▃\", \"\").replace(\"  \", \" \") for s in google_before]\n",
    "google_after = [' '.join(mecab(s)).replace(\"▃\", \"\").replace(\"  \", \" \") for s in google_after]\n",
    "\n",
    "for case in [google_before, google_after]:\n",
    "    \n",
    "    bleu = sacrebleu.corpus_bleu(case, [reference])\n",
    "    ter = sacrebleu.corpus_ter(case, [reference])\n",
    "    !--force\n",
    "    chrf = sacrebleu.corpus_chrf(case, [reference])\n",
    "    \n",
    "    if case == google_before:\n",
    "        print(\"[Google Before]\")\n",
    "    else:\n",
    "        print(\"[Google After]\")\n",
    "        \n",
    "    print(\"BLEU: \", bleu.score)\n",
    "    print(\"TER: \", ter.score)\n",
    "    print(\"chrF\", chrf.score)\n",
    "    print()"
   ],
   "outputs": [
    {
     "output_type": "stream",
     "name": "stderr",
     "text": [
      "That's 100 lines that end in a tokenized period ('.')\n",
      "It looks like you forgot to detokenize your test data, which may hurt your score.\n",
      "If you insist your data is detokenized, or don't care, you can suppress this message with '--force'.\n"
     ]
    },
    {
     "output_type": "stream",
     "name": "stdout",
     "text": [
      "/bin/bash: --: invalid option\n",
      "Usage:\t/bin/bash [GNU long option] [option] ...\n",
      "\t/bin/bash [GNU long option] [option] script-file ...\n",
      "GNU long options:\n",
      "\t--debug\n",
      "\t--debugger\n",
      "\t--dump-po-strings\n",
      "\t--dump-strings\n",
      "\t--help\n",
      "\t--init-file\n",
      "\t--login\n",
      "\t--noediting\n",
      "\t--noprofile\n",
      "\t--norc\n",
      "\t--posix\n",
      "\t--rcfile\n",
      "\t--restricted\n",
      "\t--verbose\n",
      "\t--version\n",
      "Shell options:\n",
      "\t-ilrsD or -c command or -O shopt_option\t\t(invocation only)\n",
      "\t-abefhkmnptuvxBCHP or -o option\n"
     ]
    },
    {
     "output_type": "stream",
     "name": "stderr",
     "text": [
      "That's 100 lines that end in a tokenized period ('.')\n",
      "It looks like you forgot to detokenize your test data, which may hurt your score.\n",
      "If you insist your data is detokenized, or don't care, you can suppress this message with '--force'.\n"
     ]
    },
    {
     "output_type": "stream",
     "name": "stdout",
     "text": [
      "[Google Before]\n",
      "BLEU:  13.117676138341224\n",
      "TER:  0.7595189003436427\n",
      "chrF 0.19496856536087329\n",
      "\n",
      "/bin/bash: --: invalid option\n",
      "Usage:\t/bin/bash [GNU long option] [option] ...\n",
      "\t/bin/bash [GNU long option] [option] script-file ...\n",
      "GNU long options:\n",
      "\t--debug\n",
      "\t--debugger\n",
      "\t--dump-po-strings\n",
      "\t--dump-strings\n",
      "\t--help\n",
      "\t--init-file\n",
      "\t--login\n",
      "\t--noediting\n",
      "\t--noprofile\n",
      "\t--norc\n",
      "\t--posix\n",
      "\t--rcfile\n",
      "\t--restricted\n",
      "\t--verbose\n",
      "\t--version\n",
      "Shell options:\n",
      "\t-ilrsD or -c command or -O shopt_option\t\t(invocation only)\n",
      "\t-abefhkmnptuvxBCHP or -o option\n",
      "[Google After]\n",
      "BLEU:  9.492515518561063\n",
      "TER:  0.8156701030927835\n",
      "chrF 0.1588497884299075\n",
      "\n"
     ]
    }
   ],
   "metadata": {
    "collapsed": true,
    "jupyter": {
     "outputs_hidden": true
    },
    "tags": []
   }
  },
  {
   "cell_type": "markdown",
   "source": [
    "### Qualitative Analysis with TER"
   ],
   "metadata": {
    "tags": []
   }
  },
  {
   "cell_type": "code",
   "execution_count": 86,
   "source": [
    "mty = pd.read_csv(\"../data_out/_mtY_ter.csv\", sep=\"\\t\", encoding=\"utf-8\")\n",
    "mtz = pd.read_csv(\"../data_out/_mtZ_ter.csv\", sep=\"\\t\", encoding=\"utf-8\")"
   ],
   "outputs": [],
   "metadata": {}
  },
  {
   "cell_type": "code",
   "execution_count": 117,
   "source": [
    "mty[mty.TER >= 0.8]"
   ],
   "outputs": [
    {
     "output_type": "execute_result",
     "data": {
      "text/html": [
       "<div>\n",
       "<style scoped>\n",
       "    .dataframe tbody tr th:only-of-type {\n",
       "        vertical-align: middle;\n",
       "    }\n",
       "\n",
       "    .dataframe tbody tr th {\n",
       "        vertical-align: top;\n",
       "    }\n",
       "\n",
       "    .dataframe thead th {\n",
       "        text-align: right;\n",
       "    }\n",
       "</style>\n",
       "<table border=\"1\" class=\"dataframe\">\n",
       "  <thead>\n",
       "    <tr style=\"text-align: right;\">\n",
       "      <th></th>\n",
       "      <th>Unnamed: 0</th>\n",
       "      <th>Segment ID</th>\n",
       "      <th>Before_tokens</th>\n",
       "      <th>After_tokens</th>\n",
       "      <th>TER</th>\n",
       "    </tr>\n",
       "  </thead>\n",
       "  <tbody>\n",
       "    <tr>\n",
       "      <th>225</th>\n",
       "      <td>225</td>\n",
       "      <td>226</td>\n",
       "      <td>\" 만약 내 가 당신 을 위해 하 는 일 을 계속 하 려고 한다면 , 나 는 나 자신 을 해칠 것 입니다 .</td>\n",
       "      <td>내 가 널 위해 계속 노력 한다면 나 자신 을 해칠 거 야 .</td>\n",
       "      <td>1.0714</td>\n",
       "    </tr>\n",
       "    <tr>\n",
       "      <th>298</th>\n",
       "      <td>298</td>\n",
       "      <td>299</td>\n",
       "      <td>\" 주립 대학 노동자 들 \" 이 가장 압박 하 는 불만 사항 은 낮 은 임금 과 직장 에서 의 품위 부족 에 집중 되 어 있 다 .</td>\n",
       "      <td>주립 대 근로자 들 의 가장 큰 불만 은 저 임금 과 직장 의 품위 저하 에 있 다 .</td>\n",
       "      <td>0.8000</td>\n",
       "    </tr>\n",
       "  </tbody>\n",
       "</table>\n",
       "</div>"
      ],
      "text/plain": [
       "     Unnamed: 0  Segment ID  \\\n",
       "225         225         226   \n",
       "298         298         299   \n",
       "\n",
       "                                                                 Before_tokens  \\\n",
       "225               \" 만약 내 가 당신 을 위해 하 는 일 을 계속 하 려고 한다면 , 나 는 나 자신 을 해칠 것 입니다 .   \n",
       "298  \" 주립 대학 노동자 들 \" 이 가장 압박 하 는 불만 사항 은 낮 은 임금 과 직장 에서 의 품위 부족 에 집중 되 어 있 다 .   \n",
       "\n",
       "                                         After_tokens     TER  \n",
       "225                내 가 널 위해 계속 노력 한다면 나 자신 을 해칠 거 야 .  1.0714  \n",
       "298  주립 대 근로자 들 의 가장 큰 불만 은 저 임금 과 직장 의 품위 저하 에 있 다 .  0.8000  "
      ]
     },
     "metadata": {},
     "execution_count": 117
    }
   ],
   "metadata": {}
  },
  {
   "cell_type": "code",
   "execution_count": 118,
   "source": [
    "mtz[mtz.TER >= 0.8]"
   ],
   "outputs": [
    {
     "output_type": "execute_result",
     "data": {
      "text/html": [
       "<div>\n",
       "<style scoped>\n",
       "    .dataframe tbody tr th:only-of-type {\n",
       "        vertical-align: middle;\n",
       "    }\n",
       "\n",
       "    .dataframe tbody tr th {\n",
       "        vertical-align: top;\n",
       "    }\n",
       "\n",
       "    .dataframe thead th {\n",
       "        text-align: right;\n",
       "    }\n",
       "</style>\n",
       "<table border=\"1\" class=\"dataframe\">\n",
       "  <thead>\n",
       "    <tr style=\"text-align: right;\">\n",
       "      <th></th>\n",
       "      <th>Unnamed: 0</th>\n",
       "      <th>Segment ID</th>\n",
       "      <th>Before_tokens</th>\n",
       "      <th>After_tokens</th>\n",
       "      <th>TER</th>\n",
       "    </tr>\n",
       "  </thead>\n",
       "  <tbody>\n",
       "    <tr>\n",
       "      <th>345</th>\n",
       "      <td>345</td>\n",
       "      <td>346</td>\n",
       "      <td>일 하 는 엄마 로서 아기 와 함께 여행 하 는 것 , 세상 에 , 정말 많 은 일 이 긴 하 지만 , 모든 것 이 너무 흥미진진 해 .</td>\n",
       "      <td>일 하 는 엄마 로서 아기 와 함께 여행 하 는 것 도 좋 지만 , 정말 신 나 . \"</td>\n",
       "      <td>0.8571</td>\n",
       "    </tr>\n",
       "  </tbody>\n",
       "</table>\n",
       "</div>"
      ],
      "text/plain": [
       "     Unnamed: 0  Segment ID  \\\n",
       "345         345         346   \n",
       "\n",
       "                                                                    Before_tokens  \\\n",
       "345  일 하 는 엄마 로서 아기 와 함께 여행 하 는 것 , 세상 에 , 정말 많 은 일 이 긴 하 지만 , 모든 것 이 너무 흥미진진 해 .   \n",
       "\n",
       "                                         After_tokens     TER  \n",
       "345  일 하 는 엄마 로서 아기 와 함께 여행 하 는 것 도 좋 지만 , 정말 신 나 . \"  0.8571  "
      ]
     },
     "metadata": {},
     "execution_count": 118
    }
   ],
   "metadata": {}
  },
  {
   "cell_type": "code",
   "execution_count": 121,
   "source": [
    "before[before[\"Segment ID\"] == 346]"
   ],
   "outputs": [
    {
     "output_type": "execute_result",
     "data": {
      "text/html": [
       "<div>\n",
       "<style scoped>\n",
       "    .dataframe tbody tr th:only-of-type {\n",
       "        vertical-align: middle;\n",
       "    }\n",
       "\n",
       "    .dataframe tbody tr th {\n",
       "        vertical-align: top;\n",
       "    }\n",
       "\n",
       "    .dataframe thead th {\n",
       "        text-align: right;\n",
       "    }\n",
       "</style>\n",
       "<table border=\"1\" class=\"dataframe\">\n",
       "  <thead>\n",
       "    <tr style=\"text-align: right;\">\n",
       "      <th></th>\n",
       "      <th>Segment ID</th>\n",
       "      <th>Source Segment</th>\n",
       "      <th>Ref</th>\n",
       "      <th>MT_Y</th>\n",
       "      <th>MT_Z</th>\n",
       "      <th>Ref_rating</th>\n",
       "      <th>MT_Y_rating</th>\n",
       "      <th>MT_Z_rating</th>\n",
       "      <th>Error</th>\n",
       "    </tr>\n",
       "  </thead>\n",
       "  <tbody>\n",
       "    <tr>\n",
       "      <th>345</th>\n",
       "      <td>346</td>\n",
       "      <td>Being a working mum and travelling as well with a baby, my goodness it's a lot, but it's all so exciting.</td>\n",
       "      <td>워킹맘이 되고 아기와 돌아다니는 건 세상에나 정말 벅차다, 그러지만 둘다 정말 즐겁다.”</td>\n",
       "      <td>일하는 엄마로서, 아이와 함께 여행한다는 것, 세상에, 많은 일이지만, 모든 것이 너무 신나요.</td>\n",
       "      <td>일하는 엄마로서 아기와 함께 여행하는 것, 세상에, 정말 많은 일이긴 하지만, 모든 것이 너무 흥미진진해.</td>\n",
       "      <td>1</td>\n",
       "      <td>2</td>\n",
       "      <td>2</td>\n",
       "      <td>T</td>\n",
       "    </tr>\n",
       "  </tbody>\n",
       "</table>\n",
       "</div>"
      ],
      "text/plain": [
       "     Segment ID  \\\n",
       "345         346   \n",
       "\n",
       "                                                                                                Source Segment  \\\n",
       "345  Being a working mum and travelling as well with a baby, my goodness it's a lot, but it's all so exciting.   \n",
       "\n",
       "                                                   Ref  \\\n",
       "345  워킹맘이 되고 아기와 돌아다니는 건 세상에나 정말 벅차다, 그러지만 둘다 정말 즐겁다.”   \n",
       "\n",
       "                                                      MT_Y  \\\n",
       "345  일하는 엄마로서, 아이와 함께 여행한다는 것, 세상에, 많은 일이지만, 모든 것이 너무 신나요.   \n",
       "\n",
       "                                                            MT_Z  Ref_rating  \\\n",
       "345  일하는 엄마로서 아기와 함께 여행하는 것, 세상에, 정말 많은 일이긴 하지만, 모든 것이 너무 흥미진진해.           1   \n",
       "\n",
       "     MT_Y_rating  MT_Z_rating Error  \n",
       "345            2            2     T  "
      ]
     },
     "metadata": {},
     "execution_count": 121
    }
   ],
   "metadata": {}
  },
  {
   "cell_type": "code",
   "execution_count": 122,
   "source": [
    "after[after[\"Segment ID\"] == 346]"
   ],
   "outputs": [
    {
     "output_type": "execute_result",
     "data": {
      "text/html": [
       "<div>\n",
       "<style scoped>\n",
       "    .dataframe tbody tr th:only-of-type {\n",
       "        vertical-align: middle;\n",
       "    }\n",
       "\n",
       "    .dataframe tbody tr th {\n",
       "        vertical-align: top;\n",
       "    }\n",
       "\n",
       "    .dataframe thead th {\n",
       "        text-align: right;\n",
       "    }\n",
       "</style>\n",
       "<table border=\"1\" class=\"dataframe\">\n",
       "  <thead>\n",
       "    <tr style=\"text-align: right;\">\n",
       "      <th></th>\n",
       "      <th>Segment ID</th>\n",
       "      <th>Source Segment</th>\n",
       "      <th>Ref</th>\n",
       "      <th>MT_Y</th>\n",
       "      <th>MT_Z</th>\n",
       "      <th>Ref_rating</th>\n",
       "      <th>MT_Y_rating</th>\n",
       "      <th>MT_Z_rating</th>\n",
       "      <th>Error</th>\n",
       "    </tr>\n",
       "  </thead>\n",
       "  <tbody>\n",
       "    <tr>\n",
       "      <th>345</th>\n",
       "      <td>346</td>\n",
       "      <td>Being a working mum and travelling as well with a baby, my goodness it's a lot, but it's all so exciting.”</td>\n",
       "      <td>워킹맘이 되고 아기와 돌아다니는 건 세상에나 정말 벅차다, 그러지만 둘다 정말 즐겁다.”</td>\n",
       "      <td>일하는 엄마로서, 그리고 아이와 함께 여행한다는 것, 정말 많은 일이지만, 모든 것이 너무 즐겁습니다.\"</td>\n",
       "      <td>일하는 엄마로서 아기와 함께 여행하는 것도 좋지만, 정말 신나.\"</td>\n",
       "      <td>1</td>\n",
       "      <td>1</td>\n",
       "      <td>2</td>\n",
       "      <td>T</td>\n",
       "    </tr>\n",
       "  </tbody>\n",
       "</table>\n",
       "</div>"
      ],
      "text/plain": [
       "     Segment ID  \\\n",
       "345         346   \n",
       "\n",
       "                                                                                                 Source Segment  \\\n",
       "345  Being a working mum and travelling as well with a baby, my goodness it's a lot, but it's all so exciting.”   \n",
       "\n",
       "                                                   Ref  \\\n",
       "345  워킹맘이 되고 아기와 돌아다니는 건 세상에나 정말 벅차다, 그러지만 둘다 정말 즐겁다.”   \n",
       "\n",
       "                                                           MT_Y  \\\n",
       "345  일하는 엄마로서, 그리고 아이와 함께 여행한다는 것, 정말 많은 일이지만, 모든 것이 너무 즐겁습니다.\"   \n",
       "\n",
       "                                     MT_Z  Ref_rating  MT_Y_rating  \\\n",
       "345  일하는 엄마로서 아기와 함께 여행하는 것도 좋지만, 정말 신나.\"           1            1   \n",
       "\n",
       "     MT_Z_rating Error  \n",
       "345            2     T  "
      ]
     },
     "metadata": {},
     "execution_count": 122
    }
   ],
   "metadata": {}
  },
  {
   "cell_type": "code",
   "execution_count": null,
   "source": [],
   "outputs": [],
   "metadata": {}
  }
 ],
 "metadata": {
  "kernelspec": {
   "display_name": "Python 3",
   "language": "python",
   "name": "python3"
  },
  "language_info": {
   "codemirror_mode": {
    "name": "ipython",
    "version": 3
   },
   "file_extension": ".py",
   "mimetype": "text/x-python",
   "name": "python",
   "nbconvert_exporter": "python",
   "pygments_lexer": "ipython3",
   "version": "3.6.9"
  }
 },
 "nbformat": 4,
 "nbformat_minor": 5
}